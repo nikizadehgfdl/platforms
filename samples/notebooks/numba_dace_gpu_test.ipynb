{
 "cells": [
  {
   "cell_type": "code",
   "execution_count": 1,
   "id": "67edb038",
   "metadata": {},
   "outputs": [
    {
     "name": "stdout",
     "output_type": "stream",
     "text": [
      "numpy:                  29.969198439037427  result=  200000000.0\n",
      "numpy nonvecable:      43.09104367007967  result=  200000000.0\n",
      "numba jit nonvecable: 0.7172567119123414  result=  200000000.0\n",
      "numba jit:            0.14147545502055436  result=  200000000.0\n"
     ]
    },
    {
     "ename": "KeyError",
     "evalue": "\"<class 'numba.core.cpu.CPUTargetOptions'> does not support option: 'target_backend'\"",
     "output_type": "error",
     "traceback": [
      "\u001b[0;31m---------------------------------------------------------------------------\u001b[0m",
      "\u001b[0;31mKeyError\u001b[0m                                  Traceback (most recent call last)",
      "File \u001b[0;32m/net2/nnz/opt/miniconda/envs/om4labs/lib/python3.8/site-packages/numba/core/options.py:16\u001b[0m, in \u001b[0;36mTargetOptions.from_dict\u001b[0;34m(self, dic)\u001b[0m\n\u001b[1;32m     15\u001b[0m \u001b[38;5;28;01mtry\u001b[39;00m:\n\u001b[0;32m---> 16\u001b[0m     ctor \u001b[38;5;241m=\u001b[39m \u001b[38;5;28;43mself\u001b[39;49m\u001b[38;5;241;43m.\u001b[39;49m\u001b[43mOPTIONS\u001b[49m\u001b[43m[\u001b[49m\u001b[43mk\u001b[49m\u001b[43m]\u001b[49m\n\u001b[1;32m     17\u001b[0m \u001b[38;5;28;01mexcept\u001b[39;00m \u001b[38;5;167;01mKeyError\u001b[39;00m:\n",
      "\u001b[0;31mKeyError\u001b[0m: 'target_backend'",
      "\nDuring handling of the above exception, another exception occurred:\n",
      "\u001b[0;31mKeyError\u001b[0m                                  Traceback (most recent call last)",
      "Cell \u001b[0;32mIn [1], line 65\u001b[0m\n\u001b[1;32m     63\u001b[0m a \u001b[38;5;241m=\u001b[39m np\u001b[38;5;241m.\u001b[39mones(n, dtype \u001b[38;5;241m=\u001b[39m np\u001b[38;5;241m.\u001b[39mfloat64)\n\u001b[1;32m     64\u001b[0m start \u001b[38;5;241m=\u001b[39m timer()\n\u001b[0;32m---> 65\u001b[0m b\u001b[38;5;241m=\u001b[39m\u001b[43mfunc_numba_cuda\u001b[49m\u001b[43m(\u001b[49m\u001b[43ma\u001b[49m\u001b[43m)\u001b[49m\n\u001b[1;32m     66\u001b[0m \u001b[38;5;28mprint\u001b[39m(\u001b[38;5;124m\"\u001b[39m\u001b[38;5;124mnumba jit cuda:      \u001b[39m\u001b[38;5;124m\"\u001b[39m, timer()\u001b[38;5;241m-\u001b[39mstart, \u001b[38;5;124m\"\u001b[39m\u001b[38;5;124m result= \u001b[39m\u001b[38;5;124m\"\u001b[39m,b\u001b[38;5;241m.\u001b[39msum())\n",
      "File \u001b[0;32m/net2/nnz/opt/miniconda/envs/om4labs/lib/python3.8/site-packages/numba/core/dispatcher.py:439\u001b[0m, in \u001b[0;36m_DispatcherBase._compile_for_args\u001b[0;34m(self, *args, **kws)\u001b[0m\n\u001b[1;32m    437\u001b[0m             e\u001b[38;5;241m.\u001b[39mpatch_message(\u001b[38;5;124m'\u001b[39m\u001b[38;5;130;01m\\n\u001b[39;00m\u001b[38;5;124m'\u001b[39m\u001b[38;5;241m.\u001b[39mjoin((\u001b[38;5;28mstr\u001b[39m(e)\u001b[38;5;241m.\u001b[39mrstrip(), help_msg)))\n\u001b[1;32m    438\u001b[0m     \u001b[38;5;66;03m# ignore the FULL_TRACEBACKS config, this needs reporting!\u001b[39;00m\n\u001b[0;32m--> 439\u001b[0m     \u001b[38;5;28;01mraise\u001b[39;00m e\n\u001b[1;32m    440\u001b[0m \u001b[38;5;28;01mfinally\u001b[39;00m:\n\u001b[1;32m    441\u001b[0m     \u001b[38;5;28mself\u001b[39m\u001b[38;5;241m.\u001b[39m_types_active_call \u001b[38;5;241m=\u001b[39m []\n",
      "File \u001b[0;32m/net2/nnz/opt/miniconda/envs/om4labs/lib/python3.8/site-packages/numba/core/dispatcher.py:372\u001b[0m, in \u001b[0;36m_DispatcherBase._compile_for_args\u001b[0;34m(self, *args, **kws)\u001b[0m\n\u001b[1;32m    370\u001b[0m return_val \u001b[38;5;241m=\u001b[39m \u001b[38;5;28;01mNone\u001b[39;00m\n\u001b[1;32m    371\u001b[0m \u001b[38;5;28;01mtry\u001b[39;00m:\n\u001b[0;32m--> 372\u001b[0m     return_val \u001b[38;5;241m=\u001b[39m \u001b[38;5;28;43mself\u001b[39;49m\u001b[38;5;241;43m.\u001b[39;49m\u001b[43mcompile\u001b[49m\u001b[43m(\u001b[49m\u001b[38;5;28;43mtuple\u001b[39;49m\u001b[43m(\u001b[49m\u001b[43margtypes\u001b[49m\u001b[43m)\u001b[49m\u001b[43m)\u001b[49m\n\u001b[1;32m    373\u001b[0m \u001b[38;5;28;01mexcept\u001b[39;00m errors\u001b[38;5;241m.\u001b[39mForceLiteralArg \u001b[38;5;28;01mas\u001b[39;00m e:\n\u001b[1;32m    374\u001b[0m     \u001b[38;5;66;03m# Received request for compiler re-entry with the list of arguments\u001b[39;00m\n\u001b[1;32m    375\u001b[0m     \u001b[38;5;66;03m# indicated by e.requested_args.\u001b[39;00m\n\u001b[1;32m    376\u001b[0m     \u001b[38;5;66;03m# First, check if any of these args are already Literal-ized\u001b[39;00m\n\u001b[1;32m    377\u001b[0m     already_lit_pos \u001b[38;5;241m=\u001b[39m [i \u001b[38;5;28;01mfor\u001b[39;00m i \u001b[38;5;129;01min\u001b[39;00m e\u001b[38;5;241m.\u001b[39mrequested_args\n\u001b[1;32m    378\u001b[0m                        \u001b[38;5;28;01mif\u001b[39;00m \u001b[38;5;28misinstance\u001b[39m(args[i], types\u001b[38;5;241m.\u001b[39mLiteral)]\n",
      "File \u001b[0;32m/net2/nnz/opt/miniconda/envs/om4labs/lib/python3.8/site-packages/numba/core/dispatcher.py:909\u001b[0m, in \u001b[0;36mDispatcher.compile\u001b[0;34m(self, sig)\u001b[0m\n\u001b[1;32m    907\u001b[0m \u001b[38;5;28;01mwith\u001b[39;00m ev\u001b[38;5;241m.\u001b[39mtrigger_event(\u001b[38;5;124m\"\u001b[39m\u001b[38;5;124mnumba:compile\u001b[39m\u001b[38;5;124m\"\u001b[39m, data\u001b[38;5;241m=\u001b[39mev_details):\n\u001b[1;32m    908\u001b[0m     \u001b[38;5;28;01mtry\u001b[39;00m:\n\u001b[0;32m--> 909\u001b[0m         cres \u001b[38;5;241m=\u001b[39m \u001b[38;5;28;43mself\u001b[39;49m\u001b[38;5;241;43m.\u001b[39;49m\u001b[43m_compiler\u001b[49m\u001b[38;5;241;43m.\u001b[39;49m\u001b[43mcompile\u001b[49m\u001b[43m(\u001b[49m\u001b[43margs\u001b[49m\u001b[43m,\u001b[49m\u001b[43m \u001b[49m\u001b[43mreturn_type\u001b[49m\u001b[43m)\u001b[49m\n\u001b[1;32m    910\u001b[0m     \u001b[38;5;28;01mexcept\u001b[39;00m errors\u001b[38;5;241m.\u001b[39mForceLiteralArg \u001b[38;5;28;01mas\u001b[39;00m e:\n\u001b[1;32m    911\u001b[0m         \u001b[38;5;28;01mdef\u001b[39;00m \u001b[38;5;21mfolded\u001b[39m(args, kws):\n",
      "File \u001b[0;32m/net2/nnz/opt/miniconda/envs/om4labs/lib/python3.8/site-packages/numba/core/dispatcher.py:79\u001b[0m, in \u001b[0;36m_FunctionCompiler.compile\u001b[0;34m(self, args, return_type)\u001b[0m\n\u001b[1;32m     78\u001b[0m \u001b[38;5;28;01mdef\u001b[39;00m \u001b[38;5;21mcompile\u001b[39m(\u001b[38;5;28mself\u001b[39m, args, return_type):\n\u001b[0;32m---> 79\u001b[0m     status, retval \u001b[38;5;241m=\u001b[39m \u001b[38;5;28;43mself\u001b[39;49m\u001b[38;5;241;43m.\u001b[39;49m\u001b[43m_compile_cached\u001b[49m\u001b[43m(\u001b[49m\u001b[43margs\u001b[49m\u001b[43m,\u001b[49m\u001b[43m \u001b[49m\u001b[43mreturn_type\u001b[49m\u001b[43m)\u001b[49m\n\u001b[1;32m     80\u001b[0m     \u001b[38;5;28;01mif\u001b[39;00m status:\n\u001b[1;32m     81\u001b[0m         \u001b[38;5;28;01mreturn\u001b[39;00m retval\n",
      "File \u001b[0;32m/net2/nnz/opt/miniconda/envs/om4labs/lib/python3.8/site-packages/numba/core/dispatcher.py:93\u001b[0m, in \u001b[0;36m_FunctionCompiler._compile_cached\u001b[0;34m(self, args, return_type)\u001b[0m\n\u001b[1;32m     90\u001b[0m     \u001b[38;5;28;01mpass\u001b[39;00m\n\u001b[1;32m     92\u001b[0m \u001b[38;5;28;01mtry\u001b[39;00m:\n\u001b[0;32m---> 93\u001b[0m     retval \u001b[38;5;241m=\u001b[39m \u001b[38;5;28;43mself\u001b[39;49m\u001b[38;5;241;43m.\u001b[39;49m\u001b[43m_compile_core\u001b[49m\u001b[43m(\u001b[49m\u001b[43margs\u001b[49m\u001b[43m,\u001b[49m\u001b[43m \u001b[49m\u001b[43mreturn_type\u001b[49m\u001b[43m)\u001b[49m\n\u001b[1;32m     94\u001b[0m \u001b[38;5;28;01mexcept\u001b[39;00m errors\u001b[38;5;241m.\u001b[39mTypingError \u001b[38;5;28;01mas\u001b[39;00m e:\n\u001b[1;32m     95\u001b[0m     \u001b[38;5;28mself\u001b[39m\u001b[38;5;241m.\u001b[39m_failed_cache[key] \u001b[38;5;241m=\u001b[39m e\n",
      "File \u001b[0;32m/net2/nnz/opt/miniconda/envs/om4labs/lib/python3.8/site-packages/numba/core/dispatcher.py:102\u001b[0m, in \u001b[0;36m_FunctionCompiler._compile_core\u001b[0;34m(self, args, return_type)\u001b[0m\n\u001b[1;32m    100\u001b[0m \u001b[38;5;28;01mdef\u001b[39;00m \u001b[38;5;21m_compile_core\u001b[39m(\u001b[38;5;28mself\u001b[39m, args, return_type):\n\u001b[1;32m    101\u001b[0m     flags \u001b[38;5;241m=\u001b[39m compiler\u001b[38;5;241m.\u001b[39mFlags()\n\u001b[0;32m--> 102\u001b[0m     \u001b[38;5;28;43mself\u001b[39;49m\u001b[38;5;241;43m.\u001b[39;49m\u001b[43mtargetdescr\u001b[49m\u001b[38;5;241;43m.\u001b[39;49m\u001b[43moptions\u001b[49m\u001b[38;5;241;43m.\u001b[39;49m\u001b[43mparse_as_flags\u001b[49m\u001b[43m(\u001b[49m\u001b[43mflags\u001b[49m\u001b[43m,\u001b[49m\u001b[43m \u001b[49m\u001b[38;5;28;43mself\u001b[39;49m\u001b[38;5;241;43m.\u001b[39;49m\u001b[43mtargetoptions\u001b[49m\u001b[43m)\u001b[49m\n\u001b[1;32m    103\u001b[0m     flags \u001b[38;5;241m=\u001b[39m \u001b[38;5;28mself\u001b[39m\u001b[38;5;241m.\u001b[39m_customize_flags(flags)\n\u001b[1;32m    105\u001b[0m     impl \u001b[38;5;241m=\u001b[39m \u001b[38;5;28mself\u001b[39m\u001b[38;5;241m.\u001b[39m_get_implementation(args, {})\n",
      "File \u001b[0;32m/net2/nnz/opt/miniconda/envs/om4labs/lib/python3.8/site-packages/numba/core/options.py:26\u001b[0m, in \u001b[0;36mTargetOptions.parse_as_flags\u001b[0;34m(cls, flags, options)\u001b[0m\n\u001b[1;32m     23\u001b[0m \u001b[38;5;129m@classmethod\u001b[39m\n\u001b[1;32m     24\u001b[0m \u001b[38;5;28;01mdef\u001b[39;00m \u001b[38;5;21mparse_as_flags\u001b[39m(\u001b[38;5;28mcls\u001b[39m, flags, options):\n\u001b[1;32m     25\u001b[0m     opt \u001b[38;5;241m=\u001b[39m \u001b[38;5;28mcls\u001b[39m()\n\u001b[0;32m---> 26\u001b[0m     \u001b[43mopt\u001b[49m\u001b[38;5;241;43m.\u001b[39;49m\u001b[43mfrom_dict\u001b[49m\u001b[43m(\u001b[49m\u001b[43moptions\u001b[49m\u001b[43m)\u001b[49m\n\u001b[1;32m     27\u001b[0m     opt\u001b[38;5;241m.\u001b[39mset_flags(flags)\n\u001b[1;32m     28\u001b[0m     \u001b[38;5;28;01mreturn\u001b[39;00m flags\n",
      "File \u001b[0;32m/net2/nnz/opt/miniconda/envs/om4labs/lib/python3.8/site-packages/numba/core/options.py:19\u001b[0m, in \u001b[0;36mTargetOptions.from_dict\u001b[0;34m(self, dic)\u001b[0m\n\u001b[1;32m     17\u001b[0m \u001b[38;5;28;01mexcept\u001b[39;00m \u001b[38;5;167;01mKeyError\u001b[39;00m:\n\u001b[1;32m     18\u001b[0m     fmt \u001b[38;5;241m=\u001b[39m \u001b[38;5;124m\"\u001b[39m\u001b[38;5;132;01m%r\u001b[39;00m\u001b[38;5;124m does not support option: \u001b[39m\u001b[38;5;124m'\u001b[39m\u001b[38;5;132;01m%s\u001b[39;00m\u001b[38;5;124m'\u001b[39m\u001b[38;5;124m\"\u001b[39m\n\u001b[0;32m---> 19\u001b[0m     \u001b[38;5;28;01mraise\u001b[39;00m \u001b[38;5;167;01mKeyError\u001b[39;00m(fmt \u001b[38;5;241m%\u001b[39m (\u001b[38;5;28mself\u001b[39m\u001b[38;5;241m.\u001b[39m\u001b[38;5;18m__class__\u001b[39m, k))\n\u001b[1;32m     20\u001b[0m \u001b[38;5;28;01melse\u001b[39;00m:\n\u001b[1;32m     21\u001b[0m     \u001b[38;5;28mself\u001b[39m\u001b[38;5;241m.\u001b[39mvalues[k] \u001b[38;5;241m=\u001b[39m ctor(v)\n",
      "\u001b[0;31mKeyError\u001b[0m: \"<class 'numba.core.cpu.CPUTargetOptions'> does not support option: 'target_backend'\""
     ]
    }
   ],
   "source": [
    "from numba import jit, cuda\n",
    "import numpy as np\n",
    "# to measure exec time\n",
    "from timeit import default_timer as timer \n",
    "\n",
    "# normal function to run on cpu\n",
    "def func(a):\n",
    "    for i in range(100000000):\n",
    "        a[i]+= 1\n",
    "    return a\n",
    "\n",
    "# function optimized to run on gpu \n",
    "@jit(target_backend='cuda')\n",
    "def func_numba_cuda(a):\n",
    "    for i in range(100000000):\n",
    "        a[i]+= 1\n",
    "    return a\n",
    "\n",
    "@jit \n",
    "def func_numba(a):\n",
    "    for i in range(100000000):\n",
    "        a[i]+= 1\n",
    "    return a\n",
    "\n",
    "@jit \n",
    "def func_numba_nonvecable(a):\n",
    "    asum=0.0\n",
    "    for i in range(100000000):\n",
    "        a[i]+= 1\n",
    "        asum += a[i]\n",
    "    return asum\n",
    "\n",
    "def func_nonvecable(a):\n",
    "    asum=0.0\n",
    "    for i in range(100000000):\n",
    "        a[i]+= 1\n",
    "        asum += a[i]\n",
    "    return asum\n",
    "\n",
    "\n",
    "\n",
    "n = 100000000\n",
    "a = np.ones(n, dtype = np.float64)\n",
    "start = timer()\n",
    "b=func(a)\n",
    "print(\"numpy:                 \", timer()-start, \" result= \",b.sum()) \n",
    "\n",
    "a = np.ones(n, dtype = np.float64)\n",
    "start = timer()\n",
    "b=func_nonvecable(a)\n",
    "print(\"numpy nonvecable:     \", timer()-start, \" result= \",b)\n",
    "\n",
    "a = np.ones(n, dtype = np.float64)\n",
    "start = timer()\n",
    "b=func_numba_nonvecable(a)\n",
    "print(\"numba jit nonvecable:\", timer()-start, \" result= \",b)\n",
    "\n",
    "a = np.ones(n, dtype = np.float64)\n",
    "start = timer()\n",
    "b=func_numba(a)\n",
    "print(\"numba jit:           \", timer()-start, \" result= \",b.sum())\n",
    "   \n",
    "a = np.ones(n, dtype = np.float64)\n",
    "start = timer()\n",
    "b=func_numba_cuda(a)\n",
    "print(\"numba jit cuda:      \", timer()-start, \" result= \",b.sum())\n"
   ]
  },
  {
   "cell_type": "code",
   "execution_count": null,
   "id": "571e7285",
   "metadata": {},
   "outputs": [],
   "source": [
    "dace_func = dace.program(auto_optimize=True)(func)\n",
    "numba_func = numba.jit(nopython=True, parallel=True)(func)\n",
    "\n",
    "a = np.ones(n, dtype = np.float64)\n",
    "start = timer()\n",
    "b=dace_func(a)\n",
    "print(\"dace:               \", timer()-start, \" result= \",b.sum())\n",
    "\n",
    "a = np.ones(n, dtype = np.float64)\n",
    "start = timer()\n",
    "b=numba_func(a)\n",
    "print(\"numba:               \", timer()-start, \" result= \",b.sum())"
   ]
  }
 ],
 "metadata": {
  "kernelspec": {
   "display_name": "Python 3",
   "language": "python",
   "name": "python3"
  },
  "language_info": {
   "codemirror_mode": {
    "name": "ipython",
    "version": 3
   },
   "file_extension": ".py",
   "mimetype": "text/x-python",
   "name": "python",
   "nbconvert_exporter": "python",
   "pygments_lexer": "ipython3",
   "version": "3.8.8"
  }
 },
 "nbformat": 4,
 "nbformat_minor": 5
}
