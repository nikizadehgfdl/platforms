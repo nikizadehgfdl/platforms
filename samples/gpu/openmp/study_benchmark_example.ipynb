{
 "cells": [
  {
   "cell_type": "code",
   "execution_count": 1,
   "id": "7ef5547c",
   "metadata": {},
   "outputs": [
    {
     "name": "stdout",
     "output_type": "stream",
     "text": [
      "\n",
      "Lmod is automatically replacing \"gcc/11.3.0\" with \"nvhpc-no-mpi/22.5\".\n",
      "\n",
      "\n",
      "Due to MODULEPATH changes, the following have been reloaded:\n",
      "  1) hdf5/1.12.2     2) netcdf/4.9.0     3) openmpi/4.1.4\n",
      "\n"
     ]
    }
   ],
   "source": [
    "!source envs; \\rm benchmark1_omp ; nvfortran -ta=tesla,cc70,cuda11.7 -mp=gpu benchmark1_omp.f90 -o benchmark1_omp"
   ]
  },
  {
   "cell_type": "code",
   "execution_count": 2,
   "id": "3a347f3c",
   "metadata": {},
   "outputs": [
    {
     "name": "stdout",
     "output_type": "stream",
     "text": [
      "      size      time(s) iterations initial_sum          final_sum        omp_nthreads    subroutine\n",
      "      16000000  69.057    2000    0.000165991129871    0.000006629710014    1     benchmark2d_omp                                   \n",
      "      16000000  34.725    2000    0.000165991129871    0.000006629710014    2     benchmark2d_omp                                   \n",
      "      16000000  23.968    2000    0.000165991129871    0.000006629710014    3     benchmark2d_omp                                   \n",
      "      16000000  17.649    2000    0.000165991129871    0.000006629710014    4     benchmark2d_omp                                   \n"
     ]
    }
   ],
   "source": [
    "!echo '4' | ./benchmark1_omp"
   ]
  },
  {
   "cell_type": "code",
   "execution_count": 3,
   "id": "7f5bad60",
   "metadata": {},
   "outputs": [
    {
     "name": "stdout",
     "output_type": "stream",
     "text": [
      "      size      time(s) iterations initial_sum          final_sum        omp_nthreads    subroutine\n",
      "      16000000   0.398    2000    0.000165991129871    0.000006629710014    1     benchmark2d_omp_gpu                               \n"
     ]
    }
   ],
   "source": [
    "!echo '-1' | ./benchmark1_omp"
   ]
  },
  {
   "cell_type": "code",
   "execution_count": 4,
   "id": "433d206b",
   "metadata": {},
   "outputs": [
    {
     "name": "stdout",
     "output_type": "stream",
     "text": [
      "      size      time(s) iterations initial_sum          final_sum        omp_nthreads    subroutine\n",
      "      16000000   0.428    2000    0.000165991129871    0.000006629710014    1     benchmark2d_omp_gpu_teams                         \n"
     ]
    }
   ],
   "source": [
    "!echo '-2' | ./benchmark1_omp"
   ]
  },
  {
   "cell_type": "code",
   "execution_count": 5,
   "id": "2808dc65",
   "metadata": {},
   "outputs": [
    {
     "name": "stdout",
     "output_type": "stream",
     "text": [
      "      size      time(s) iterations initial_sum          final_sum        omp_nthreads    subroutine\n",
      "      16000000   0.537    2000    0.000165991129871    0.000006629710014    1     benchmark2d_omp_gpu_teams_2devs                   \n"
     ]
    }
   ],
   "source": [
    "!echo '-3' | ./benchmark1_omp"
   ]
  },
  {
   "cell_type": "markdown",
   "id": "fa46eeec",
   "metadata": {},
   "source": [
    "## Strange, compiler bug?\n",
    "swaping the order of compiler options breaks something. Timings increase 3folds and the 2devs test does not change the array."
   ]
  },
  {
   "cell_type": "code",
   "execution_count": 6,
   "id": "13e5cae5",
   "metadata": {},
   "outputs": [
    {
     "name": "stdout",
     "output_type": "stream",
     "text": [
      "\n",
      "Lmod is automatically replacing \"gcc/11.3.0\" with \"nvhpc-no-mpi/22.5\".\n",
      "\n",
      "\n",
      "Due to MODULEPATH changes, the following have been reloaded:\n",
      "  1) hdf5/1.12.2     2) netcdf/4.9.0     3) openmpi/4.1.4\n",
      "\n"
     ]
    }
   ],
   "source": [
    "!source envs; \\rm benchmark1_omp ; nvfortran -mp=gpu  -ta=tesla,cc70,cuda11.7 benchmark1_omp.f90 -o benchmark1_omp"
   ]
  },
  {
   "cell_type": "code",
   "execution_count": 7,
   "id": "60fe1156",
   "metadata": {},
   "outputs": [
    {
     "name": "stdout",
     "output_type": "stream",
     "text": [
      "      size      time(s) iterations initial_sum          final_sum        omp_nthreads    subroutine\n",
      "      16000000   0.051    2000    0.000165991129871    0.000165991129871    1     benchmark2d_omp_gpu_teams_2devs                   \n",
      " Wrong Result!!!!\n"
     ]
    }
   ],
   "source": [
    "!echo '-3' | ./benchmark1_omp"
   ]
  },
  {
   "cell_type": "code",
   "execution_count": 8,
   "id": "4bdd5051",
   "metadata": {},
   "outputs": [
    {
     "name": "stdout",
     "output_type": "stream",
     "text": [
      "      size      time(s) iterations initial_sum          final_sum        omp_nthreads    subroutine\n",
      "      16000000   4.787    2000    0.000165991129871    0.000006629710014    1     benchmark2d_omp_gpu_teams                         \n"
     ]
    }
   ],
   "source": [
    "!echo '-2' | ./benchmark1_omp"
   ]
  },
  {
   "cell_type": "markdown",
   "id": "a5024d24",
   "metadata": {},
   "source": [
    "swap back the orders reproduces the first results above "
   ]
  },
  {
   "cell_type": "code",
   "execution_count": 9,
   "id": "8691c457",
   "metadata": {
    "scrolled": true
   },
   "outputs": [
    {
     "name": "stdout",
     "output_type": "stream",
     "text": [
      "\n",
      "Lmod is automatically replacing \"gcc/11.3.0\" with \"nvhpc-no-mpi/22.5\".\n",
      "\n",
      "\n",
      "Due to MODULEPATH changes, the following have been reloaded:\n",
      "  1) hdf5/1.12.2     2) netcdf/4.9.0     3) openmpi/4.1.4\n",
      "\n"
     ]
    }
   ],
   "source": [
    "!source envs; \\rm benchmark1_omp ; nvfortran -ta=tesla,cc70,cuda11.7 -mp=gpu benchmark1_omp.f90 -o benchmark1_omp"
   ]
  },
  {
   "cell_type": "code",
   "execution_count": 10,
   "id": "94f828e7",
   "metadata": {},
   "outputs": [
    {
     "name": "stdout",
     "output_type": "stream",
     "text": [
      "      size      time(s) iterations initial_sum          final_sum        omp_nthreads    subroutine\n",
      "      16000000   0.475    2000    0.000165991129871    0.000006629710014    1     benchmark2d_omp_gpu_teams_2devs                   \n"
     ]
    }
   ],
   "source": [
    "!echo '-3' | ./benchmark1_omp"
   ]
  },
  {
   "cell_type": "code",
   "execution_count": 11,
   "id": "34261422",
   "metadata": {
    "scrolled": true
   },
   "outputs": [
    {
     "name": "stdout",
     "output_type": "stream",
     "text": [
      "      size      time(s) iterations initial_sum          final_sum        omp_nthreads    subroutine\n",
      "      16000000   0.330    2000    0.000165991129871    0.000006629710014    1     benchmark2d_omp_gpu_teams                         \n"
     ]
    }
   ],
   "source": [
    "!echo '-2' | ./benchmark1_omp"
   ]
  },
  {
   "cell_type": "markdown",
   "id": "8bb967c7",
   "metadata": {},
   "source": [
    "## -O2 has no effect"
   ]
  },
  {
   "cell_type": "code",
   "execution_count": 12,
   "id": "5a9fc73c",
   "metadata": {},
   "outputs": [
    {
     "name": "stdout",
     "output_type": "stream",
     "text": [
      "\n",
      "Lmod is automatically replacing \"gcc/11.3.0\" with \"nvhpc-no-mpi/22.5\".\n",
      "\n",
      "\n",
      "Due to MODULEPATH changes, the following have been reloaded:\n",
      "  1) hdf5/1.12.2     2) netcdf/4.9.0     3) openmpi/4.1.4\n",
      "\n"
     ]
    }
   ],
   "source": [
    "!source envs; \\rm benchmark1_omp ; nvfortran -O2 -ta=tesla,cc70,cuda11.7 -mp=gpu benchmark1_omp.f90 -o benchmark1_omp"
   ]
  },
  {
   "cell_type": "code",
   "execution_count": 13,
   "id": "448e2661",
   "metadata": {},
   "outputs": [
    {
     "name": "stdout",
     "output_type": "stream",
     "text": [
      "      size      time(s) iterations initial_sum          final_sum        omp_nthreads    subroutine\n",
      "      16000000   0.389    2000    0.000165991129871    0.000006629710014    1     benchmark2d_omp_gpu                               \n"
     ]
    }
   ],
   "source": [
    "!echo '-1' | ./benchmark1_omp"
   ]
  },
  {
   "cell_type": "code",
   "execution_count": 14,
   "id": "9b288f84",
   "metadata": {},
   "outputs": [
    {
     "name": "stdout",
     "output_type": "stream",
     "text": [
      "      size      time(s) iterations initial_sum          final_sum        omp_nthreads    subroutine\n",
      "      16000000   0.337    2000    0.000165991129871    0.000006629710014    1     benchmark2d_omp_gpu_teams                         \n"
     ]
    }
   ],
   "source": [
    "!echo '-2' | ./benchmark1_omp"
   ]
  },
  {
   "cell_type": "code",
   "execution_count": 15,
   "id": "80cd3e00",
   "metadata": {},
   "outputs": [
    {
     "name": "stdout",
     "output_type": "stream",
     "text": [
      "      size      time(s) iterations initial_sum          final_sum        omp_nthreads    subroutine\n",
      "      16000000   0.457    2000    0.000165991129871    0.000006629710014    1     benchmark2d_omp_gpu_teams_2devs                   \n"
     ]
    }
   ],
   "source": [
    "!echo '-3' | ./benchmark1_omp"
   ]
  },
  {
   "cell_type": "code",
   "execution_count": 16,
   "id": "19daa0fc",
   "metadata": {},
   "outputs": [
    {
     "name": "stdout",
     "output_type": "stream",
     "text": [
      "      size      time(s) iterations initial_sum          final_sum        omp_nthreads    subroutine\n",
      "      16000000  68.706    2000    0.000165991129871    0.000006629710014    1     benchmark2d_omp                                   \n",
      "      16000000  34.685    2000    0.000165991129871    0.000006629710014    2     benchmark2d_omp                                   \n",
      "      16000000  24.940    2000    0.000165991129871    0.000006629710014    3     benchmark2d_omp                                   \n",
      "      16000000  17.610    2000    0.000165991129871    0.000006629710014    4     benchmark2d_omp                                   \n"
     ]
    }
   ],
   "source": [
    "!echo '4' | ./benchmark1_omp"
   ]
  },
  {
   "cell_type": "markdown",
   "id": "a5cc9c6e",
   "metadata": {},
   "source": [
    "## -ta=tesla,cc70,cuda11.7 has no effect on gpu offload tests"
   ]
  },
  {
   "cell_type": "code",
   "execution_count": 17,
   "id": "10d74d77",
   "metadata": {},
   "outputs": [
    {
     "name": "stdout",
     "output_type": "stream",
     "text": [
      "\n",
      "Lmod is automatically replacing \"gcc/11.3.0\" with \"nvhpc-no-mpi/22.5\".\n",
      "\n",
      "\n",
      "Due to MODULEPATH changes, the following have been reloaded:\n",
      "  1) hdf5/1.12.2     2) netcdf/4.9.0     3) openmpi/4.1.4\n",
      "\n"
     ]
    }
   ],
   "source": [
    "!source envs; \\rm benchmark1_omp ; nvfortran -mp=gpu benchmark1_omp.f90 -o benchmark1_omp"
   ]
  },
  {
   "cell_type": "code",
   "execution_count": 18,
   "id": "3870e5b2",
   "metadata": {},
   "outputs": [
    {
     "name": "stdout",
     "output_type": "stream",
     "text": [
      "      size      time(s) iterations initial_sum          final_sum        omp_nthreads    subroutine\n",
      "      16000000   0.386    2000    0.000165991129871    0.000006629710014    1     benchmark2d_omp_gpu                               \n"
     ]
    }
   ],
   "source": [
    "!echo '-1' | ./benchmark1_omp"
   ]
  },
  {
   "cell_type": "code",
   "execution_count": 19,
   "id": "ab7c5d6e",
   "metadata": {},
   "outputs": [
    {
     "name": "stdout",
     "output_type": "stream",
     "text": [
      "      size      time(s) iterations initial_sum          final_sum        omp_nthreads    subroutine\n",
      "      16000000   0.334    2000    0.000165991129871    0.000006629710014    1     benchmark2d_omp_gpu_teams                         \n"
     ]
    }
   ],
   "source": [
    "!echo '-2' | ./benchmark1_omp"
   ]
  },
  {
   "cell_type": "code",
   "execution_count": 20,
   "id": "ad792a43",
   "metadata": {},
   "outputs": [
    {
     "name": "stdout",
     "output_type": "stream",
     "text": [
      "      size      time(s) iterations initial_sum          final_sum        omp_nthreads    subroutine\n",
      "      16000000   0.538    2000    0.000165991129871    0.000006629710014    1     benchmark2d_omp_gpu_teams_2devs                   \n"
     ]
    }
   ],
   "source": [
    "!echo '-3' | ./benchmark1_omp"
   ]
  },
  {
   "cell_type": "code",
   "execution_count": 21,
   "id": "8f7eb4fc",
   "metadata": {},
   "outputs": [
    {
     "name": "stdout",
     "output_type": "stream",
     "text": [
      "      size      time(s) iterations initial_sum          final_sum        omp_nthreads    subroutine\n",
      "^C\n"
     ]
    }
   ],
   "source": [
    "!echo '10' | ./benchmark1_omp"
   ]
  },
  {
   "cell_type": "code",
   "execution_count": 22,
   "id": "395d0565",
   "metadata": {},
   "outputs": [
    {
     "name": "stdout",
     "output_type": "stream",
     "text": [
      "\n",
      "Lmod is automatically replacing \"gcc/11.3.0\" with \"nvhpc-no-mpi/22.5\".\n",
      "\n",
      "\n",
      "Due to MODULEPATH changes, the following have been reloaded:\n",
      "  1) hdf5/1.12.2     2) netcdf/4.9.0     3) openmpi/4.1.4\n",
      "\n"
     ]
    }
   ],
   "source": [
    "!source envs; \\rm benchmark1_omp ; nvfortran -mp benchmark1_omp.f90 -o benchmark1_omp"
   ]
  },
  {
   "cell_type": "code",
   "execution_count": 23,
   "id": "ae87cb22",
   "metadata": {},
   "outputs": [
    {
     "name": "stdout",
     "output_type": "stream",
     "text": [
      "      size      time(s) iterations initial_sum          final_sum        omp_nthreads    subroutine\n",
      "^C\n"
     ]
    }
   ],
   "source": [
    "!echo '10' | ./benchmark1_omp"
   ]
  },
  {
   "cell_type": "markdown",
   "id": "244ba86c",
   "metadata": {},
   "source": [
    "## -ta=tesla,cc70,cuda11.7 has an effect on no offload openmp test, compiler bug?\n",
    "If it is not specified the omp test hangs."
   ]
  },
  {
   "cell_type": "code",
   "execution_count": 24,
   "id": "1aa79f3a",
   "metadata": {},
   "outputs": [
    {
     "name": "stdout",
     "output_type": "stream",
     "text": [
      "\r\n",
      "Lmod is automatically replacing \"gcc/11.3.0\" with \"nvhpc-no-mpi/22.5\".\r\n",
      "\r\n",
      "\r\n",
      "Due to MODULEPATH changes, the following have been reloaded:\r\n",
      "  1) hdf5/1.12.2     2) netcdf/4.9.0     3) openmpi/4.1.4\r\n",
      "\r\n"
     ]
    }
   ],
   "source": [
    "!source envs; \\rm benchmark1_omp ; nvfortran -ta=tesla,cc70,cuda11.7 -mp=gpu benchmark1_omp.f90 -o benchmark1_omp"
   ]
  },
  {
   "cell_type": "code",
   "execution_count": 25,
   "id": "a312d008",
   "metadata": {},
   "outputs": [
    {
     "name": "stdout",
     "output_type": "stream",
     "text": [
      "      size      time(s) iterations initial_sum          final_sum        omp_nthreads    subroutine\n",
      "^C\n"
     ]
    }
   ],
   "source": [
    "!echo '10' | ./benchmark1_omp"
   ]
  },
  {
   "cell_type": "code",
   "execution_count": 27,
   "id": "836d5080",
   "metadata": {},
   "outputs": [
    {
     "name": "stdout",
     "output_type": "stream",
     "text": [
      "      size      time(s) iterations initial_sum          final_sum        omp_nthreads    subroutine\n",
      "      16000000   0.473    2000    0.000165991129871    0.000006629710014    1     benchmark2d_omp_gpu                               \n",
      "      size      time(s) iterations initial_sum          final_sum        omp_nthreads    subroutine\n",
      "      16000000   0.368    2000    0.000165991129871    0.000006629710014    1     benchmark2d_omp_gpu                               \n",
      "      size      time(s) iterations initial_sum          final_sum        omp_nthreads    subroutine\n",
      "      16000000   0.363    2000    0.000165991129871    0.000006629710014    1     benchmark2d_omp_gpu                               \n",
      "      size      time(s) iterations initial_sum          final_sum        omp_nthreads    subroutine\n",
      "      16000000   0.338    2000    0.000165991129871    0.000006629710014    1     benchmark2d_omp_gpu                               \n",
      "      size      time(s) iterations initial_sum          final_sum        omp_nthreads    subroutine\n",
      "      16000000   0.338    2000    0.000165991129871    0.000006629710014    1     benchmark2d_omp_gpu                               \n",
      "      size      time(s) iterations initial_sum          final_sum        omp_nthreads    subroutine\n",
      "      16000000   0.333    2000    0.000165991129871    0.000006629710014    1     benchmark2d_omp_gpu                               \n",
      "      size      time(s) iterations initial_sum          final_sum        omp_nthreads    subroutine\n",
      "      16000000   0.272    2000    0.000165991129871    0.000006629710014    1     benchmark2d_omp_gpu                               \n",
      "      size      time(s) iterations initial_sum          final_sum        omp_nthreads    subroutine\n",
      "      16000000   0.341    2000    0.000165991129871    0.000006629710014    1     benchmark2d_omp_gpu                               \n",
      "      size      time(s) iterations initial_sum          final_sum        omp_nthreads    subroutine\n",
      "      16000000   0.335    2000    0.000165991129871    0.000006629710014    1     benchmark2d_omp_gpu                               \n",
      "      size      time(s) iterations initial_sum          final_sum        omp_nthreads    subroutine\n",
      "      16000000   0.364    2000    0.000165991129871    0.000006629710014    1     benchmark2d_omp_gpu                               \n",
      "      size      time(s) iterations initial_sum          final_sum        omp_nthreads    subroutine\n",
      "      16000000   0.365    2000    0.000165991129871    0.000006629710014    1     benchmark2d_omp_gpu                               \n",
      "      size      time(s) iterations initial_sum          final_sum        omp_nthreads    subroutine\n",
      "      16000000   0.357    2000    0.000165991129871    0.000006629710014    1     benchmark2d_omp_gpu                               \n",
      "      size      time(s) iterations initial_sum          final_sum        omp_nthreads    subroutine\n",
      "      16000000   0.273    2000    0.000165991129871    0.000006629710014    1     benchmark2d_omp_gpu                               \n",
      "      size      time(s) iterations initial_sum          final_sum        omp_nthreads    subroutine\n",
      "      16000000   0.338    2000    0.000165991129871    0.000006629710014    1     benchmark2d_omp_gpu                               \n",
      "      size      time(s) iterations initial_sum          final_sum        omp_nthreads    subroutine\n",
      "      16000000   0.358    2000    0.000165991129871    0.000006629710014    1     benchmark2d_omp_gpu                               \n",
      "      size      time(s) iterations initial_sum          final_sum        omp_nthreads    subroutine\n",
      "      16000000   0.268    2000    0.000165991129871    0.000006629710014    1     benchmark2d_omp_gpu                               \n",
      "      size      time(s) iterations initial_sum          final_sum        omp_nthreads    subroutine\n",
      "      16000000   0.334    2000    0.000165991129871    0.000006629710014    1     benchmark2d_omp_gpu                               \n",
      "      size      time(s) iterations initial_sum          final_sum        omp_nthreads    subroutine\n",
      "      16000000   0.363    2000    0.000165991129871    0.000006629710014    1     benchmark2d_omp_gpu                               \n",
      "      size      time(s) iterations initial_sum          final_sum        omp_nthreads    subroutine\n",
      "      16000000   0.332    2000    0.000165991129871    0.000006629710014    1     benchmark2d_omp_gpu                               \n"
     ]
    }
   ],
   "source": [
    "for i in range(1,20):\n",
    "    !echo '-1' | ./benchmark1_omp"
   ]
  },
  {
   "cell_type": "markdown",
   "id": "cc6ae6f5",
   "metadata": {},
   "source": [
    "### Let's try 100 times bigger matrix"
   ]
  },
  {
   "cell_type": "code",
   "execution_count": 28,
   "id": "73130b3a",
   "metadata": {},
   "outputs": [
    {
     "name": "stdout",
     "output_type": "stream",
     "text": [
      "\n",
      "Lmod is automatically replacing \"gcc/11.3.0\" with \"nvhpc-no-mpi/22.5\".\n",
      "\n",
      "\n",
      "Due to MODULEPATH changes, the following have been reloaded:\n",
      "  1) hdf5/1.12.2     2) netcdf/4.9.0     3) openmpi/4.1.4\n",
      "\n"
     ]
    }
   ],
   "source": [
    "!source envs; \\rm benchmark1_omp ; nvfortran -ta=tesla,cc70,cuda11.7 -mp=gpu benchmark1_omp.f90 -o benchmark1_omp"
   ]
  },
  {
   "cell_type": "code",
   "execution_count": 29,
   "id": "dde6e2ad",
   "metadata": {},
   "outputs": [
    {
     "name": "stdout",
     "output_type": "stream",
     "text": [
      "      size      time(s) iterations initial_sum          final_sum        omp_nthreads    subroutine\n",
      "    1600000000  12.157    2000    0.000016602849567    0.000000663121053    1     benchmark2d_omp_gpu                               \n",
      " Wrong Result!!!!\n"
     ]
    }
   ],
   "source": [
    "!echo '-1' | ./benchmark1_omp"
   ]
  },
  {
   "cell_type": "code",
   "execution_count": 30,
   "id": "8f8e0edf",
   "metadata": {},
   "outputs": [
    {
     "name": "stdout",
     "output_type": "stream",
     "text": [
      "      size      time(s) iterations initial_sum          final_sum        omp_nthreads    subroutine\n",
      "    1600000000  11.733    2000    0.000016602849567    0.000000663121053    1     benchmark2d_omp_gpu_teams                         \n",
      " Wrong Result!!!!\n"
     ]
    }
   ],
   "source": [
    "!echo '-2' | ./benchmark1_omp"
   ]
  },
  {
   "cell_type": "code",
   "execution_count": 31,
   "id": "06a21f0b",
   "metadata": {},
   "outputs": [
    {
     "name": "stdout",
     "output_type": "stream",
     "text": [
      "      size      time(s) iterations initial_sum          final_sum        omp_nthreads    subroutine\n",
      "    1600000000   4.135    2000    0.000016602849567    0.000000663121053    1     benchmark2d_omp_gpu_teams_2devs                   \n",
      " Wrong Result!!!!\n"
     ]
    }
   ],
   "source": [
    "!echo '-3' | ./benchmark1_omp"
   ]
  },
  {
   "cell_type": "code",
   "execution_count": 32,
   "id": "fdbfe526",
   "metadata": {},
   "outputs": [
    {
     "name": "stdout",
     "output_type": "stream",
     "text": [
      "      size      time(s) iterations initial_sum          final_sum        omp_nthreads    subroutine\n",
      "    1600000000   6.161    2000    0.000016602849567    0.000000663121053    1     benchmark2d_omp_gpu_teams_2devs                   \n",
      " Wrong Result!!!!\n"
     ]
    }
   ],
   "source": [
    "!echo '-3' | ./benchmark1_omp"
   ]
  },
  {
   "cell_type": "code",
   "execution_count": 33,
   "id": "10712adc",
   "metadata": {},
   "outputs": [
    {
     "name": "stdout",
     "output_type": "stream",
     "text": [
      "      size      time(s) iterations initial_sum          final_sum        omp_nthreads    subroutine\n",
      "    1600000000  12.496    2000    0.000016602849567    0.000000663121053    1     benchmark2d_omp_gpu_teams_2devs                   \n",
      " Wrong Result!!!!\n"
     ]
    }
   ],
   "source": [
    "!echo '-3' | ./benchmark1_omp"
   ]
  },
  {
   "cell_type": "markdown",
   "id": "b98b5fe8",
   "metadata": {},
   "source": [
    "Here's what nvidia-smi shows while the above cell runs:\n",
    "```\n",
    "+-----------------------------------------------------------------------------+\n",
    "Fri Dec 16 19:04:55 2022       \n",
    "+-----------------------------------------------------------------------------+\n",
    "| NVIDIA-SMI 520.61.05    Driver Version: 520.61.05    CUDA Version: 11.8     |\n",
    "|-------------------------------+----------------------+----------------------+\n",
    "| GPU  Name        Persistence-M| Bus-Id        Disp.A | Volatile Uncorr. ECC |\n",
    "| Fan  Temp  Perf  Pwr:Usage/Cap|         Memory-Usage | GPU-Util  Compute M. |\n",
    "|                               |                      |               MIG M. |\n",
    "|===============================+======================+======================|\n",
    "|   0  Tesla V100-PCIE...  Off  | 00000000:04:00.0 Off |                    0 |\n",
    "| N/A   56C    P0   116W / 250W |   6414MiB / 32768MiB |    100%      Default |\n",
    "|                               |                      |                  N/A |\n",
    "+-------------------------------+----------------------+----------------------+\n",
    "|   1  Tesla V100-PCIE...  Off  | 00000000:83:00.0 Off |                    0 |\n",
    "| N/A   47C    P0    42W / 250W |   6414MiB / 32768MiB |     20%      Default |\n",
    "|                               |                      |                  N/A |\n",
    "+-------------------------------+----------------------+----------------------+\n",
    "                                                                               \n",
    "+-----------------------------------------------------------------------------+\n",
    "| Processes:                                                                  |\n",
    "|  GPU   GI   CI        PID   Type   Process name                  GPU Memory |\n",
    "|        ID   ID                                                   Usage      |\n",
    "|=============================================================================|\n",
    "|    0   N/A  N/A     26832      C   ./benchmark1_omp                 6410MiB |\n",
    "|    1   N/A  N/A     26832      C   ./benchmark1_omp                 6410MiB |\n",
    "+-----------------------------------------------------------------------------+\n",
    "Fri Dec 16 19:04:56 2022       \n",
    "+-----------------------------------------------------------------------------+\n",
    "| NVIDIA-SMI 520.61.05    Driver Version: 520.61.05    CUDA Version: 11.8     |\n",
    "|-------------------------------+----------------------+----------------------+\n",
    "| GPU  Name        Persistence-M| Bus-Id        Disp.A | Volatile Uncorr. ECC |\n",
    "| Fan  Temp  Perf  Pwr:Usage/Cap|         Memory-Usage | GPU-Util  Compute M. |\n",
    "|                               |                      |               MIG M. |\n",
    "|===============================+======================+======================|\n",
    "|   0  Tesla V100-PCIE...  Off  | 00000000:04:00.0 Off |                    0 |\n",
    "| N/A   56C    P0    48W / 250W |   6414MiB / 32768MiB |     28%      Default |\n",
    "|                               |                      |                  N/A |\n",
    "+-------------------------------+----------------------+----------------------+\n",
    "|   1  Tesla V100-PCIE...  Off  | 00000000:83:00.0 Off |                    0 |\n",
    "| N/A   49C    P0    48W / 250W |   6414MiB / 32768MiB |    100%      Default |\n",
    "```"
   ]
  },
  {
   "cell_type": "code",
   "execution_count": 1,
   "id": "f3844a9d",
   "metadata": {},
   "outputs": [
    {
     "name": "stdout",
     "output_type": "stream",
     "text": [
      "      size      time(s) iterations initial_sum          final_sum        omp_nthreads    subroutine\n",
      "    1600000000  11.337    2000    0.000016602849567    0.000000663121053    1     benchmark2d_omp_gpu_teams_2devs                   \n",
      " Wrong Result!!!!\n",
      "      size      time(s) iterations initial_sum          final_sum        omp_nthreads    subroutine\n",
      "    1600000000   8.193    2000    0.000016602849567    0.000000663121053    1     benchmark2d_omp_gpu_teams_2devs                   \n",
      " Wrong Result!!!!\n",
      "      size      time(s) iterations initial_sum          final_sum        omp_nthreads    subroutine\n",
      "    1600000000   8.143    2000    0.000016602849567    0.000000663121053    1     benchmark2d_omp_gpu_teams_2devs                   \n",
      " Wrong Result!!!!\n",
      "      size      time(s) iterations initial_sum          final_sum        omp_nthreads    subroutine\n",
      "    1600000000   8.136    2000    0.000016602849567    0.000000663121053    1     benchmark2d_omp_gpu_teams_2devs                   \n",
      " Wrong Result!!!!\n",
      "      size      time(s) iterations initial_sum          final_sum        omp_nthreads    subroutine\n",
      "    1600000000   6.237    2000    0.000016602849567    0.000000663121053    1     benchmark2d_omp_gpu_teams_2devs                   \n",
      " Wrong Result!!!!\n",
      "      size      time(s) iterations initial_sum          final_sum        omp_nthreads    subroutine\n",
      "    1600000000  12.593    2000    0.000016602849567    0.000000663121053    1     benchmark2d_omp_gpu_teams_2devs                   \n",
      " Wrong Result!!!!\n",
      "      size      time(s) iterations initial_sum          final_sum        omp_nthreads    subroutine\n",
      "    1600000000   6.197    2000    0.000016602849567    0.000000663121053    1     benchmark2d_omp_gpu_teams_2devs                   \n",
      " Wrong Result!!!!\n",
      "      size      time(s) iterations initial_sum          final_sum        omp_nthreads    subroutine\n",
      "    1600000000   8.154    2000    0.000016602849567    0.000000663121053    1     benchmark2d_omp_gpu_teams_2devs                   \n",
      " Wrong Result!!!!\n",
      "      size      time(s) iterations initial_sum          final_sum        omp_nthreads    subroutine\n",
      "    1600000000   5.880    2000    0.000016602849567    0.000000663121053    1     benchmark2d_omp_gpu_teams_2devs                   \n",
      " Wrong Result!!!!\n",
      "      size      time(s) iterations initial_sum          final_sum        omp_nthreads    subroutine\n",
      "    1600000000   6.384    2000    0.000016602849567    0.000000663121053    1     benchmark2d_omp_gpu_teams_2devs                   \n",
      " Wrong Result!!!!\n",
      "      size      time(s) iterations initial_sum          final_sum        omp_nthreads    subroutine\n",
      "    1600000000   5.692    2000    0.000016602849567    0.000000663121053    1     benchmark2d_omp_gpu_teams_2devs                   \n",
      " Wrong Result!!!!\n",
      "      size      time(s) iterations initial_sum          final_sum        omp_nthreads    subroutine\n",
      "    1600000000   8.145    2000    0.000016602849567    0.000000663121053    1     benchmark2d_omp_gpu_teams_2devs                   \n",
      " Wrong Result!!!!\n",
      "      size      time(s) iterations initial_sum          final_sum        omp_nthreads    subroutine\n",
      "    1600000000   7.849    2000    0.000016602849567    0.000000663121053    1     benchmark2d_omp_gpu_teams_2devs                   \n",
      " Wrong Result!!!!\n",
      "      size      time(s) iterations initial_sum          final_sum        omp_nthreads    subroutine\n",
      "    1600000000   5.063    2000    0.000016602849567    0.000000663121053    1     benchmark2d_omp_gpu_teams_2devs                   \n",
      " Wrong Result!!!!\n",
      "      size      time(s) iterations initial_sum          final_sum        omp_nthreads    subroutine\n",
      "    1600000000   6.250    2000    0.000016602849567    0.000000663121053    1     benchmark2d_omp_gpu_teams_2devs                   \n",
      " Wrong Result!!!!\n",
      "      size      time(s) iterations initial_sum          final_sum        omp_nthreads    subroutine\n",
      "    1600000000   8.159    2000    0.000016602849567    0.000000663121053    1     benchmark2d_omp_gpu_teams_2devs                   \n",
      " Wrong Result!!!!\n",
      "      size      time(s) iterations initial_sum          final_sum        omp_nthreads    subroutine\n",
      "    1600000000   5.863    2000    0.000016602849567    0.000000663121053    1     benchmark2d_omp_gpu_teams_2devs                   \n",
      " Wrong Result!!!!\n",
      "      size      time(s) iterations initial_sum          final_sum        omp_nthreads    subroutine\n",
      "    1600000000   6.315    2000    0.000016602849567    0.000000663121053    1     benchmark2d_omp_gpu_teams_2devs                   \n",
      " Wrong Result!!!!\n",
      "      size      time(s) iterations initial_sum          final_sum        omp_nthreads    subroutine\n",
      "    1600000000  11.650    2000    0.000016602849567    0.000000663121053    1     benchmark2d_omp_gpu_teams_2devs                   \n",
      " Wrong Result!!!!\n"
     ]
    }
   ],
   "source": [
    "for i in range(1,20):\n",
    "    !echo '-3' | ./benchmark1_omp"
   ]
  },
  {
   "cell_type": "markdown",
   "id": "02977845",
   "metadata": {},
   "source": [
    "### Back to original resolution"
   ]
  },
  {
   "cell_type": "code",
   "execution_count": 2,
   "id": "dfaa4219",
   "metadata": {},
   "outputs": [
    {
     "name": "stdout",
     "output_type": "stream",
     "text": [
      "      size      time(s) iterations initial_sum          final_sum        omp_nthreads    subroutine\n",
      "      16000000   1.517    2000    0.000165991129871    0.000006629710014    1     benchmark2d_omp_gpu                               \n"
     ]
    }
   ],
   "source": [
    "!echo '-1' | ./benchmark1_omp"
   ]
  },
  {
   "cell_type": "markdown",
   "id": "f29323c8",
   "metadata": {},
   "source": [
    "### If we use a driver and subroutines in a separate file, timers go up and 2devs does not work"
   ]
  },
  {
   "cell_type": "code",
   "execution_count": 8,
   "id": "3949efca",
   "metadata": {},
   "outputs": [
    {
     "name": "stdout",
     "output_type": "stream",
     "text": [
      "\n",
      "Lmod is automatically replacing \"gcc/11.3.0\" with \"nvhpc-no-mpi/22.5\".\n",
      "\n",
      "\n",
      "Due to MODULEPATH changes, the following have been reloaded:\n",
      "  1) hdf5/1.12.2     2) netcdf/4.9.0     3) openmpi/4.1.4\n",
      "\n",
      "benchmark2d_driver.f90:\n"
     ]
    }
   ],
   "source": [
    "!source envs; \\rm benchmark2d ; nvfortran -ta=tesla,cc70,cuda11.7 -mp=gpu  -c benchmark2d_omp.f90;nvfortran -O2 -mp benchmark2d_omp.o benchmark2d_driver.f90 -o benchmark2d"
   ]
  },
  {
   "cell_type": "code",
   "execution_count": 9,
   "id": "51dbb2a2",
   "metadata": {
    "scrolled": true
   },
   "outputs": [
    {
     "name": "stdout",
     "output_type": "stream",
     "text": [
      "      size      time(s) iterations initial_sum          final_sum        omp_nthreads    subroutine\n",
      "      16000000   4.544    2000    0.000165991129871    0.000006629710014    1     benchmark2d_omp_gpu                               \n"
     ]
    }
   ],
   "source": [
    "!echo '-1' | ./benchmark2d"
   ]
  },
  {
   "cell_type": "code",
   "execution_count": 10,
   "id": "0de2058a",
   "metadata": {},
   "outputs": [
    {
     "name": "stdout",
     "output_type": "stream",
     "text": [
      "      size      time(s) iterations initial_sum          final_sum        omp_nthreads    subroutine\n",
      "      16000000   4.554    2000    0.000165991129871    0.000006629710014    1     benchmark2d_omp_gpu_teams                         \n"
     ]
    }
   ],
   "source": [
    "!echo '-2' | ./benchmark2d"
   ]
  },
  {
   "cell_type": "code",
   "execution_count": 11,
   "id": "a9754dd3",
   "metadata": {},
   "outputs": [
    {
     "name": "stdout",
     "output_type": "stream",
     "text": [
      "      size      time(s) iterations initial_sum          final_sum        omp_nthreads    subroutine\n",
      "      16000000   0.051    2000    0.000165991129871    0.000165991129871    1     benchmark2d_omp_gpu_teams_2devs                   \n",
      " Wrong Result!!!!\n"
     ]
    }
   ],
   "source": [
    "!echo '-3' | ./benchmark2d"
   ]
  },
  {
   "cell_type": "code",
   "execution_count": null,
   "id": "bbae4e01",
   "metadata": {},
   "outputs": [],
   "source": []
  }
 ],
 "metadata": {
  "kernelspec": {
   "display_name": "Python 3 (ipykernel)",
   "language": "python",
   "name": "python3"
  },
  "language_info": {
   "codemirror_mode": {
    "name": "ipython",
    "version": 3
   },
   "file_extension": ".py",
   "mimetype": "text/x-python",
   "name": "python",
   "nbconvert_exporter": "python",
   "pygments_lexer": "ipython3",
   "version": "3.8.13"
  }
 },
 "nbformat": 4,
 "nbformat_minor": 5
}
