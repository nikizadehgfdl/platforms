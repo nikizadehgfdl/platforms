{
 "cells": [
  {
   "cell_type": "code",
   "execution_count": 1,
   "id": "7ef5547c",
   "metadata": {
    "scrolled": true
   },
   "outputs": [],
   "source": [
    "!source envs; \\rm benchmark1_x100_omp ; nvfortran -ta=tesla,cc70,cuda11.7 -mp=gpu benchmark1_x100_omp.f90 -o benchmark1_x100_omp"
   ]
  },
  {
   "cell_type": "markdown",
   "id": "3ae5e5f0",
   "metadata": {},
   "source": [
    "### The following cells ran while nvidia-smi -l2 was running on a shell"
   ]
  },
  {
   "cell_type": "code",
   "execution_count": 2,
   "id": "7f5bad60",
   "metadata": {
    "scrolled": true
   },
   "outputs": [
    {
     "name": "stdout",
     "output_type": "stream",
     "text": [
      "      size      time(s) iterations initial_sum          final_sum        omp_nthreads    subroutine\n",
      "    1600000000   9.586    2000    0.000016602849567    0.000000663121053    1     benchmark2d_omp_gpu                               \n",
      "      size      time(s) iterations initial_sum          final_sum        omp_nthreads    subroutine\n",
      "    1600000000   9.453    2000    0.000016602849567    0.000000663121053    1     benchmark2d_omp_gpu                               \n",
      "      size      time(s) iterations initial_sum          final_sum        omp_nthreads    subroutine\n",
      "    1600000000   9.554    2000    0.000016602849567    0.000000663121053    1     benchmark2d_omp_gpu                               \n",
      "      size      time(s) iterations initial_sum          final_sum        omp_nthreads    subroutine\n",
      "    1600000000  16.751    2000    0.000016602849567    0.000000663121053    1     benchmark2d_omp_gpu                               \n"
     ]
    }
   ],
   "source": [
    "for i in range(1,5):\n",
    "    !echo '-1' | ./benchmark1_x100_omp"
   ]
  },
  {
   "cell_type": "code",
   "execution_count": 3,
   "id": "bbae4e01",
   "metadata": {
    "scrolled": true
   },
   "outputs": [
    {
     "name": "stdout",
     "output_type": "stream",
     "text": [
      "      size      time(s) iterations initial_sum          final_sum        omp_nthreads    subroutine\n",
      "    1600000000  10.008    2000    0.000016602849567    0.000000663121053    1     benchmark2d_omp_gpu_ij                            \n",
      "      size      time(s) iterations initial_sum          final_sum        omp_nthreads    subroutine\n",
      "    1600000000   9.494    2000    0.000016602849567    0.000000663121053    1     benchmark2d_omp_gpu_ij                            \n",
      "      size      time(s) iterations initial_sum          final_sum        omp_nthreads    subroutine\n",
      "    1600000000   9.566    2000    0.000016602849567    0.000000663121053    1     benchmark2d_omp_gpu_ij                            \n",
      "      size      time(s) iterations initial_sum          final_sum        omp_nthreads    subroutine\n",
      "    1600000000  13.628    2000    0.000016602849567    0.000000663121053    1     benchmark2d_omp_gpu_ij                            \n"
     ]
    }
   ],
   "source": [
    "for i in range(1,5):\n",
    "    !echo '-4' | ./benchmark1_x100_omp"
   ]
  },
  {
   "cell_type": "code",
   "execution_count": 3,
   "id": "433d206b",
   "metadata": {
    "scrolled": true
   },
   "outputs": [
    {
     "name": "stdout",
     "output_type": "stream",
     "text": [
      "      size      time(s) iterations initial_sum          final_sum        omp_nthreads    subroutine\n",
      "    1600000000  12.003    2000    0.000016602849567    0.000000663121053    1     benchmark2d_omp_gpu_teams                         \n",
      "      size      time(s) iterations initial_sum          final_sum        omp_nthreads    subroutine\n",
      "    1600000000   8.784    2000    0.000016602849567    0.000000663121053    1     benchmark2d_omp_gpu_teams                         \n",
      "      size      time(s) iterations initial_sum          final_sum        omp_nthreads    subroutine\n",
      "    1600000000  12.662    2000    0.000016602849567    0.000000663121053    1     benchmark2d_omp_gpu_teams                         \n",
      "      size      time(s) iterations initial_sum          final_sum        omp_nthreads    subroutine\n",
      "    1600000000  14.931    2000    0.000016602849567    0.000000663121053    1     benchmark2d_omp_gpu_teams                         \n"
     ]
    }
   ],
   "source": [
    "for i in range(1,5):\n",
    "    !echo '-2' | ./benchmark1_x100_omp"
   ]
  },
  {
   "cell_type": "code",
   "execution_count": 4,
   "id": "2808dc65",
   "metadata": {
    "scrolled": false
   },
   "outputs": [
    {
     "name": "stdout",
     "output_type": "stream",
     "text": [
      "      size      time(s) iterations initial_sum          final_sum        omp_nthreads    subroutine\n",
      "    1600000000   7.355    2000    0.000016602849567    0.000000663121053    1     benchmark2d_omp_gpu_teams_2devs                   \n",
      "      size      time(s) iterations initial_sum          final_sum        omp_nthreads    subroutine\n",
      "    1600000000   7.239    2000    0.000016602849567    0.000000663121053    1     benchmark2d_omp_gpu_teams_2devs                   \n",
      "      size      time(s) iterations initial_sum          final_sum        omp_nthreads    subroutine\n",
      "    1600000000   8.619    2000    0.000016602849567    0.000000663121053    1     benchmark2d_omp_gpu_teams_2devs                   \n",
      "      size      time(s) iterations initial_sum          final_sum        omp_nthreads    subroutine\n",
      "    1600000000  11.803    2000    0.000016602849567    0.000000663121053    1     benchmark2d_omp_gpu_teams_2devs                   \n"
     ]
    }
   ],
   "source": [
    "for i in range(1,5):\n",
    "    !echo '-3' | ./benchmark1_x100_omp"
   ]
  },
  {
   "cell_type": "markdown",
   "id": "b6e94fd3",
   "metadata": {},
   "source": [
    "### The following cells ran without nvidia-smi -l 2 "
   ]
  },
  {
   "cell_type": "code",
   "execution_count": 7,
   "id": "3da492af",
   "metadata": {
    "scrolled": true
   },
   "outputs": [
    {
     "name": "stdout",
     "output_type": "stream",
     "text": [
      "      size      time(s) iterations initial_sum          final_sum        omp_nthreads    subroutine\n",
      "    1600000000  17.934    2000    0.000016602849567    0.000000663121053    1     benchmark2d_omp_gpu                               \n",
      "      size      time(s) iterations initial_sum          final_sum        omp_nthreads    subroutine\n",
      "    1600000000  17.943    2000    0.000016602849567    0.000000663121053    1     benchmark2d_omp_gpu                               \n",
      "      size      time(s) iterations initial_sum          final_sum        omp_nthreads    subroutine\n",
      "    1600000000  14.458    2000    0.000016602849567    0.000000663121053    1     benchmark2d_omp_gpu                               \n",
      "      size      time(s) iterations initial_sum          final_sum        omp_nthreads    subroutine\n",
      "    1600000000  18.028    2000    0.000016602849567    0.000000663121053    1     benchmark2d_omp_gpu                               \n"
     ]
    }
   ],
   "source": [
    "for i in range(1,5):\n",
    "    !echo '-1' | ./benchmark1_x100_omp"
   ]
  },
  {
   "cell_type": "code",
   "execution_count": 8,
   "id": "9d1bbb00",
   "metadata": {
    "scrolled": true
   },
   "outputs": [
    {
     "name": "stdout",
     "output_type": "stream",
     "text": [
      "      size      time(s) iterations initial_sum          final_sum        omp_nthreads    subroutine\n",
      "    1600000000  10.705    2000    0.000016602849567    0.000000663121053    1     benchmark2d_omp_gpu_ij                            \n",
      "      size      time(s) iterations initial_sum          final_sum        omp_nthreads    subroutine\n",
      "    1600000000  17.981    2000    0.000016602849567    0.000000663121053    1     benchmark2d_omp_gpu_ij                            \n",
      "      size      time(s) iterations initial_sum          final_sum        omp_nthreads    subroutine\n",
      "    1600000000  12.659    2000    0.000016602849567    0.000000663121053    1     benchmark2d_omp_gpu_ij                            \n",
      "      size      time(s) iterations initial_sum          final_sum        omp_nthreads    subroutine\n",
      "    1600000000  17.925    2000    0.000016602849567    0.000000663121053    1     benchmark2d_omp_gpu_ij                            \n"
     ]
    }
   ],
   "source": [
    "for i in range(1,5):\n",
    "    !echo '-4' | ./benchmark1_x100_omp"
   ]
  },
  {
   "cell_type": "code",
   "execution_count": 9,
   "id": "c40bc542",
   "metadata": {
    "scrolled": true
   },
   "outputs": [
    {
     "name": "stdout",
     "output_type": "stream",
     "text": [
      "      size      time(s) iterations initial_sum          final_sum        omp_nthreads    subroutine\n",
      "    1600000000   8.678    2000    0.000016602849567    0.000000663121053    1     benchmark2d_omp_gpu_teams                         \n",
      "      size      time(s) iterations initial_sum          final_sum        omp_nthreads    subroutine\n",
      "    1600000000  12.684    2000    0.000016602849567    0.000000663121053    1     benchmark2d_omp_gpu_teams                         \n",
      "      size      time(s) iterations initial_sum          final_sum        omp_nthreads    subroutine\n",
      "    1600000000  10.479    2000    0.000016602849567    0.000000663121053    1     benchmark2d_omp_gpu_teams                         \n",
      "      size      time(s) iterations initial_sum          final_sum        omp_nthreads    subroutine\n",
      "    1600000000  15.957    2000    0.000016602849567    0.000000663121053    1     benchmark2d_omp_gpu_teams                         \n"
     ]
    }
   ],
   "source": [
    "for i in range(1,5):\n",
    "    !echo '-2' | ./benchmark1_x100_omp"
   ]
  },
  {
   "cell_type": "code",
   "execution_count": 4,
   "id": "7bf5e599",
   "metadata": {
    "scrolled": true
   },
   "outputs": [
    {
     "name": "stdout",
     "output_type": "stream",
     "text": [
      "      size      time(s) iterations initial_sum          final_sum        omp_nthreads    subroutine\n",
      "    1600000000  15.602    2000    0.000016602849567    0.000000663121053    1     benchmark2d_omp_gpu_teams                         \n",
      "      size      time(s) iterations initial_sum          final_sum        omp_nthreads    subroutine\n",
      "    1600000000  15.707    2000    0.000016602849567    0.000000663121053    1     benchmark2d_omp_gpu_teams                         \n",
      "      size      time(s) iterations initial_sum          final_sum        omp_nthreads    subroutine\n",
      "    1600000000  15.665    2000    0.000016602849567    0.000000663121053    1     benchmark2d_omp_gpu_teams                         \n",
      "      size      time(s) iterations initial_sum          final_sum        omp_nthreads    subroutine\n",
      "    1600000000  13.500    2000    0.000016602849567    0.000000663121053    1     benchmark2d_omp_gpu_teams                         \n"
     ]
    }
   ],
   "source": [
    "for i in range(1,5):\n",
    "    !echo '-2' | ./benchmark1_x100_omp"
   ]
  },
  {
   "cell_type": "code",
   "execution_count": 10,
   "id": "bc7e1a93",
   "metadata": {
    "scrolled": true
   },
   "outputs": [
    {
     "name": "stdout",
     "output_type": "stream",
     "text": [
      "      size      time(s) iterations initial_sum          final_sum        omp_nthreads    subroutine\n",
      "    1600000000   5.326    2000    0.000016602849567    0.000000663121053    1     benchmark2d_omp_gpu_teams_2devs                   \n",
      "      size      time(s) iterations initial_sum          final_sum        omp_nthreads    subroutine\n",
      "    1600000000   9.513    2000    0.000016602849567    0.000000663121053    1     benchmark2d_omp_gpu_teams_2devs                   \n",
      "      size      time(s) iterations initial_sum          final_sum        omp_nthreads    subroutine\n",
      "    1600000000   9.511    2000    0.000016602849567    0.000000663121053    1     benchmark2d_omp_gpu_teams_2devs                   \n",
      "      size      time(s) iterations initial_sum          final_sum        omp_nthreads    subroutine\n",
      "    1600000000   9.511    2000    0.000016602849567    0.000000663121053    1     benchmark2d_omp_gpu_teams_2devs                   \n"
     ]
    }
   ],
   "source": [
    "for i in range(1,5):\n",
    "    !echo '-3' | ./benchmark1_x100_omp"
   ]
  },
  {
   "cell_type": "code",
   "execution_count": null,
   "id": "44c85d8d",
   "metadata": {},
   "outputs": [],
   "source": []
  }
 ],
 "metadata": {
  "kernelspec": {
   "display_name": "Python 3 (ipykernel)",
   "language": "python",
   "name": "python3"
  },
  "language_info": {
   "codemirror_mode": {
    "name": "ipython",
    "version": 3
   },
   "file_extension": ".py",
   "mimetype": "text/x-python",
   "name": "python",
   "nbconvert_exporter": "python",
   "pygments_lexer": "ipython3",
   "version": "3.10.8"
  }
 },
 "nbformat": 4,
 "nbformat_minor": 5
}
