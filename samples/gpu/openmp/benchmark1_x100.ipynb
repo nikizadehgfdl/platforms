{
 "cells": [
  {
   "cell_type": "code",
   "execution_count": 5,
   "id": "7ef5547c",
   "metadata": {
    "scrolled": true
   },
   "outputs": [],
   "source": [
    "!source envs; \\rm benchmark1_x100_omp ; nvfortran -ta=tesla,cc70,cuda11.7 -mp=gpu benchmark1_x100_omp.f90 -o benchmark1_x100_omp"
   ]
  },
  {
   "cell_type": "markdown",
   "id": "3ae5e5f0",
   "metadata": {},
   "source": [
    "### The following cells ran while nvidia-smi -l2 was running on a shell"
   ]
  },
  {
   "cell_type": "code",
   "execution_count": 6,
   "id": "7f5bad60",
   "metadata": {
    "scrolled": true
   },
   "outputs": [
    {
     "name": "stdout",
     "output_type": "stream",
     "text": [
      "      size      time(s) iterations initial_sum          final_sum        omp_nthreads    subroutine\n",
      "    1600000000  11.669    2000    0.000016602849567    0.000000663121053    1     benchmark2d_omp_gpu                               \n",
      "      size      time(s) iterations initial_sum          final_sum        omp_nthreads    subroutine\n",
      "    1600000000  15.013    2000    0.000016602849567    0.000000663121053    1     benchmark2d_omp_gpu                               \n",
      "      size      time(s) iterations initial_sum          final_sum        omp_nthreads    subroutine\n",
      "    1600000000  16.877    2000    0.000016602849567    0.000000663121053    1     benchmark2d_omp_gpu                               \n",
      "      size      time(s) iterations initial_sum          final_sum        omp_nthreads    subroutine\n",
      "    1600000000  14.968    2000    0.000016602849567    0.000000663121053    1     benchmark2d_omp_gpu                               \n"
     ]
    }
   ],
   "source": [
    "for i in range(1,5):\n",
    "    !echo '-1' | ./benchmark1_x100_omp\n",
    "    \n",
    "#      size      time(s) iterations initial_sum          final_sum        omp_nthreads    subroutine\n",
    "#    1600000000   9.586    2000    0.000016602849567    0.000000663121053    1     benchmark2d_omp_gpu                               \n",
    "#    1600000000   9.453    2000    0.000016602849567    0.000000663121053    1     benchmark2d_omp_gpu                               \n",
    "#    1600000000   9.554    2000    0.000016602849567    0.000000663121053    1     benchmark2d_omp_gpu                               \n",
    "#    1600000000  16.751    2000    0.000016602849567    0.000000663121053    1     benchmark2d_omp_gpu                                   "
   ]
  },
  {
   "cell_type": "code",
   "execution_count": 8,
   "id": "433d206b",
   "metadata": {
    "scrolled": true
   },
   "outputs": [
    {
     "name": "stdout",
     "output_type": "stream",
     "text": [
      "      size      time(s) iterations initial_sum          final_sum        omp_nthreads    subroutine\n",
      "    1600000000   9.615    2000    0.000016602849567    0.000000663121053    1     benchmark2d_omp_gpu_teams                         \n",
      "      size      time(s) iterations initial_sum          final_sum        omp_nthreads    subroutine\n",
      "    1600000000   9.547    2000    0.000016602849567    0.000000663121053    1     benchmark2d_omp_gpu_teams                         \n",
      "      size      time(s) iterations initial_sum          final_sum        omp_nthreads    subroutine\n",
      "    1600000000  15.801    2000    0.000016602849567    0.000000663121053    1     benchmark2d_omp_gpu_teams                         \n",
      "      size      time(s) iterations initial_sum          final_sum        omp_nthreads    subroutine\n",
      "    1600000000   9.637    2000    0.000016602849567    0.000000663121053    1     benchmark2d_omp_gpu_teams                         \n"
     ]
    }
   ],
   "source": [
    "for i in range(1,5):\n",
    "    !echo '-2' | ./benchmark1_x100_omp\n",
    "#      size      time(s) iterations initial_sum          final_sum        omp_nthreads    subroutine\n",
    "#   1600000000   8.784    2000    0.000016602849567    0.000000663121053    1     benchmark2d_omp_gpu_teams                         \n",
    "#   1600000000  14.931    2000    0.000016602849567    0.000000663121053    1     benchmark2d_omp_gpu_teams   "
   ]
  },
  {
   "cell_type": "code",
   "execution_count": 9,
   "id": "2808dc65",
   "metadata": {
    "scrolled": false
   },
   "outputs": [
    {
     "name": "stdout",
     "output_type": "stream",
     "text": [
      "      size      time(s) iterations initial_sum          final_sum        omp_nthreads    subroutine\n",
      "    1600000000  10.248    2000    0.000016602849567    0.000000663121053    1     benchmark2d_omp_gpu_teams_2devs                   \n",
      "      size      time(s) iterations initial_sum          final_sum        omp_nthreads    subroutine\n",
      "    1600000000   8.197    2000    0.000016602849567    0.000000663121053    1     benchmark2d_omp_gpu_teams_2devs                   \n",
      "      size      time(s) iterations initial_sum          final_sum        omp_nthreads    subroutine\n",
      "    1600000000  14.509    2000    0.000016602849567    0.000000663121053    1     benchmark2d_omp_gpu_teams_2devs                   \n",
      "      size      time(s) iterations initial_sum          final_sum        omp_nthreads    subroutine\n",
      "    1600000000   7.232    2000    0.000016602849567    0.000000663121053    1     benchmark2d_omp_gpu_teams_2devs                   \n"
     ]
    }
   ],
   "source": [
    "for i in range(1,5):\n",
    "    !echo '-3' | ./benchmark1_x100_omp\n",
    "#     size      time(s) iterations initial_sum          final_sum        omp_nthreads    subroutine\n",
    "#  1600000000   7.239    2000    0.000016602849567    0.000000663121053    1     benchmark2d_omp_gpu_teams_2devs                   \n",
    "#  1600000000  11.803    2000    0.000016602849567    0.000000663121053    1     benchmark2d_omp_gpu_teams_2devs     "
   ]
  },
  {
   "cell_type": "markdown",
   "id": "b6e94fd3",
   "metadata": {},
   "source": [
    "### The following cells ran without nvidia-smi -l 2 "
   ]
  },
  {
   "cell_type": "code",
   "execution_count": 11,
   "id": "3da492af",
   "metadata": {
    "scrolled": true
   },
   "outputs": [],
   "source": [
    "#for i in range(1,5):\n",
    "#    !echo '-1' | ./benchmark1_x100_omp\n",
    "#size      time(s) iterations initial_sum          final_sum        omp_nthreads    subroutine\n",
    "#    1600000000  14.458    2000    0.000016602849567    0.000000663121053    1     benchmark2d_omp_gpu                               \n",
    "#    1600000000  18.028    2000    0.000016602849567    0.000000663121053    1     benchmark2d_omp_gpu\n",
    "#\n",
    "#    1600000000  12.659    2000    0.000016602849567    0.000000663121053    1     benchmark2d_omp_gpu_ij\n",
    "#    1600000000  17.925    2000    0.000016602849567    0.000000663121053    1     benchmark2d_omp_gpu_ij\n",
    "#\n",
    "#    1600000000   8.678    2000    0.000016602849567    0.000000663121053    1     benchmark2d_omp_gpu_teams\n",
    "#    1600000000  15.957    2000    0.000016602849567    0.000000663121053    1     benchmark2d_omp_gpu_teams   \n",
    "#\n",
    "#    1600000000   5.326    2000    0.000016602849567    0.000000663121053    1     benchmark2d_omp_gpu_teams_2devs                   \n",
    "#    1600000000   9.513    2000    0.000016602849567    0.000000663121053    1     benchmark2d_omp_gpu_teams_2devs    "
   ]
  },
  {
   "cell_type": "markdown",
   "id": "14e5b552",
   "metadata": {},
   "source": [
    "### Delete -ta from the compiler option. The following cells ran with nvidia-smi -l 2 "
   ]
  },
  {
   "cell_type": "code",
   "execution_count": 12,
   "id": "95fe52ca",
   "metadata": {
    "scrolled": true
   },
   "outputs": [],
   "source": [
    "!source envs; \\rm benchmark1_x100_omp ; nvfortran -mp=gpu benchmark1_x100_omp.f90 -o benchmark1_x100_omp"
   ]
  },
  {
   "cell_type": "code",
   "execution_count": 13,
   "id": "9d1bbb00",
   "metadata": {
    "scrolled": true
   },
   "outputs": [
    {
     "name": "stdout",
     "output_type": "stream",
     "text": [
      "      size      time(s) iterations initial_sum          final_sum        omp_nthreads    subroutine\n",
      "    1600000000  10.409    2000    0.000016602849567    0.000000663121053    1     benchmark2d_omp_gpu                               \n",
      "      size      time(s) iterations initial_sum          final_sum        omp_nthreads    subroutine\n",
      "    1600000000  16.032    2000    0.000016602849567    0.000000663121053    1     benchmark2d_omp_gpu                               \n",
      "      size      time(s) iterations initial_sum          final_sum        omp_nthreads    subroutine\n",
      "    1600000000  17.104    2000    0.000016602849567    0.000000663121053    1     benchmark2d_omp_gpu                               \n",
      "      size      time(s) iterations initial_sum          final_sum        omp_nthreads    subroutine\n",
      "    1600000000   9.111    2000    0.000016602849567    0.000000663121053    1     benchmark2d_omp_gpu                               \n"
     ]
    }
   ],
   "source": [
    "for i in range(1,5):\n",
    "    !echo '-1' | ./benchmark1_x100_omp"
   ]
  },
  {
   "cell_type": "code",
   "execution_count": 14,
   "id": "c40bc542",
   "metadata": {
    "scrolled": true
   },
   "outputs": [
    {
     "name": "stdout",
     "output_type": "stream",
     "text": [
      "      size      time(s) iterations initial_sum          final_sum        omp_nthreads    subroutine\n",
      "    1600000000   6.191    2000    0.000016602849567    0.000000663121053    1     benchmark2d_omp_gpu_teams                         \n",
      "      size      time(s) iterations initial_sum          final_sum        omp_nthreads    subroutine\n",
      "    1600000000   5.796    2000    0.000016602849567    0.000000663121053    1     benchmark2d_omp_gpu_teams                         \n",
      "      size      time(s) iterations initial_sum          final_sum        omp_nthreads    subroutine\n",
      "    1600000000   6.247    2000    0.000016602849567    0.000000663121053    1     benchmark2d_omp_gpu_teams                         \n",
      "      size      time(s) iterations initial_sum          final_sum        omp_nthreads    subroutine\n",
      "    1600000000   6.236    2000    0.000016602849567    0.000000663121053    1     benchmark2d_omp_gpu_teams                         \n"
     ]
    }
   ],
   "source": [
    "for i in range(1,5):\n",
    "    !echo '-2' | ./benchmark1_x100_omp"
   ]
  },
  {
   "cell_type": "code",
   "execution_count": 15,
   "id": "bc7e1a93",
   "metadata": {
    "scrolled": true
   },
   "outputs": [
    {
     "name": "stdout",
     "output_type": "stream",
     "text": [
      "      size      time(s) iterations initial_sum          final_sum        omp_nthreads    subroutine\n",
      "    1600000000   6.588    2000    0.000016602849567    0.000000663121053    1     benchmark2d_omp_gpu_teams_2devs                   \n",
      "      size      time(s) iterations initial_sum          final_sum        omp_nthreads    subroutine\n",
      "    1600000000   8.168    2000    0.000016602849567    0.000000663121053    1     benchmark2d_omp_gpu_teams_2devs                   \n",
      "      size      time(s) iterations initial_sum          final_sum        omp_nthreads    subroutine\n",
      "    1600000000  11.154    2000    0.000016602849567    0.000000663121053    1     benchmark2d_omp_gpu_teams_2devs                   \n",
      "      size      time(s) iterations initial_sum          final_sum        omp_nthreads    subroutine\n",
      "    1600000000   6.606    2000    0.000016602849567    0.000000663121053    1     benchmark2d_omp_gpu_teams_2devs                   \n"
     ]
    }
   ],
   "source": [
    "for i in range(1,5):\n",
    "    !echo '-3' | ./benchmark1_x100_omp"
   ]
  },
  {
   "cell_type": "code",
   "execution_count": 21,
   "id": "44c85d8d",
   "metadata": {},
   "outputs": [],
   "source": [
    "!source envs; \\rm benchmark1_x100_docon ; nvfortran -mp=gpu -stdpar benchmark1_x100_docon.f90 -o benchmark1_x100_docon"
   ]
  },
  {
   "cell_type": "code",
   "execution_count": 22,
   "id": "a6e85d6f",
   "metadata": {},
   "outputs": [
    {
     "name": "stdout",
     "output_type": "stream",
     "text": [
      "      size      time(s) iterations initial_sum          final_sum        omp_nthreads    subroutine\n",
      "    1600000000   7.243    2000    0.000016602849567    0.000000663121053    1     benchmark2d_omp_gpu                               \n",
      "      size      time(s) iterations initial_sum          final_sum        omp_nthreads    subroutine\n",
      "    1600000000   7.257    2000    0.000016602849567    0.000000663121053    1     benchmark2d_omp_gpu                               \n",
      "      size      time(s) iterations initial_sum          final_sum        omp_nthreads    subroutine\n",
      "    1600000000   7.307    2000    0.000016602849567    0.000000663121053    1     benchmark2d_omp_gpu                               \n",
      "      size      time(s) iterations initial_sum          final_sum        omp_nthreads    subroutine\n",
      "    1600000000   7.221    2000    0.000016602849567    0.000000663121053    1     benchmark2d_omp_gpu                               \n"
     ]
    }
   ],
   "source": [
    "for i in range(1,5):\n",
    "    !echo '-1' | ./benchmark1_x100_docon"
   ]
  },
  {
   "cell_type": "code",
   "execution_count": 25,
   "id": "4efd164d",
   "metadata": {},
   "outputs": [
    {
     "name": "stdout",
     "output_type": "stream",
     "text": [
      "      size      time(s) iterations initial_sum          final_sum        omp_nthreads    subroutine\n",
      "    1600000000   8.127    2000    0.000016602849567    0.000000663121053    1     benchmark2d_omp_gpu_teams                         \n",
      "      size      time(s) iterations initial_sum          final_sum        omp_nthreads    subroutine\n",
      "    1600000000   7.965    2000    0.000016602849567    0.000000663121053    1     benchmark2d_omp_gpu_teams                         \n",
      "      size      time(s) iterations initial_sum          final_sum        omp_nthreads    subroutine\n",
      "    1600000000   8.016    2000    0.000016602849567    0.000000663121053    1     benchmark2d_omp_gpu_teams                         \n",
      "      size      time(s) iterations initial_sum          final_sum        omp_nthreads    subroutine\n",
      "    1600000000   8.022    2000    0.000016602849567    0.000000663121053    1     benchmark2d_omp_gpu_teams                         \n"
     ]
    }
   ],
   "source": [
    "for i in range(1,5):\n",
    "    !echo '-2' | ./benchmark1_x100_docon"
   ]
  },
  {
   "cell_type": "code",
   "execution_count": 24,
   "id": "13f264db",
   "metadata": {
    "scrolled": true
   },
   "outputs": [
    {
     "name": "stdout",
     "output_type": "stream",
     "text": [
      "      size      time(s) iterations initial_sum          final_sum        omp_nthreads    subroutine\n",
      "    1600000000   4.339    2000    0.000016602849567    0.000000663121053    1     benchmark2d_omp_gpu_teams_2devs                   \n",
      "      size      time(s) iterations initial_sum          final_sum        omp_nthreads    subroutine\n",
      "    1600000000   4.101    2000    0.000016602849567    0.000000663121053    1     benchmark2d_omp_gpu_teams_2devs                   \n",
      "      size      time(s) iterations initial_sum          final_sum        omp_nthreads    subroutine\n",
      "    1600000000   4.279    2000    0.000016602849567    0.000000663121053    1     benchmark2d_omp_gpu_teams_2devs                   \n",
      "      size      time(s) iterations initial_sum          final_sum        omp_nthreads    subroutine\n",
      "    1600000000   4.254    2000    0.000016602849567    0.000000663121053    1     benchmark2d_omp_gpu_teams_2devs                   \n"
     ]
    }
   ],
   "source": [
    "for i in range(1,5):\n",
    "    !echo '-3' | ./benchmark1_x100_docon"
   ]
  },
  {
   "cell_type": "code",
   "execution_count": 23,
   "id": "d4e3c1d0",
   "metadata": {},
   "outputs": [
    {
     "name": "stdout",
     "output_type": "stream",
     "text": [
      "      size      time(s) iterations initial_sum          final_sum        omp_nthreads    subroutine\n",
      "    1600000000   3.508    2000    0.000016602849567    0.000000663121053    1     benchmark2d_docon                                 \n",
      "      size      time(s) iterations initial_sum          final_sum        omp_nthreads    subroutine\n",
      "    1600000000   3.497    2000    0.000016602849567    0.000000663121053    1     benchmark2d_docon                                 \n",
      "      size      time(s) iterations initial_sum          final_sum        omp_nthreads    subroutine\n",
      "    1600000000   3.473    2000    0.000016602849567    0.000000663121053    1     benchmark2d_docon                                 \n",
      "      size      time(s) iterations initial_sum          final_sum        omp_nthreads    subroutine\n",
      "    1600000000   3.089    2000    0.000016602849567    0.000000663121053    1     benchmark2d_docon                                 \n"
     ]
    }
   ],
   "source": [
    "for i in range(1,5):\n",
    "    !echo '-4' | ./benchmark1_x100_docon"
   ]
  },
  {
   "cell_type": "markdown",
   "id": "a2e03535",
   "metadata": {},
   "source": [
    "### do concurrent is twice faster than openmp offload. Why? How does it achieve that? Are we missing something in the compiler options?"
   ]
  },
  {
   "cell_type": "code",
   "execution_count": null,
   "id": "21649100",
   "metadata": {},
   "outputs": [],
   "source": []
  }
 ],
 "metadata": {
  "kernelspec": {
   "display_name": "Python 3 (ipykernel)",
   "language": "python",
   "name": "python3"
  },
  "language_info": {
   "codemirror_mode": {
    "name": "ipython",
    "version": 3
   },
   "file_extension": ".py",
   "mimetype": "text/x-python",
   "name": "python",
   "nbconvert_exporter": "python",
   "pygments_lexer": "ipython3",
   "version": "3.10.8"
  }
 },
 "nbformat": 4,
 "nbformat_minor": 5
}
