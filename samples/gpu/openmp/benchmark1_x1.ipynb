{
 "cells": [
  {
   "cell_type": "code",
   "execution_count": 15,
   "id": "7ef5547c",
   "metadata": {},
   "outputs": [
    {
     "name": "stdout",
     "output_type": "stream",
     "text": [
      "\n",
      "Lmod is automatically replacing \"gcc/11.3.0\" with \"nvhpc-no-mpi/22.5\".\n",
      "\n",
      "\n",
      "Due to MODULEPATH changes, the following have been reloaded:\n",
      "  1) hdf5/1.12.2     2) netcdf/4.9.0     3) openmpi/4.1.4\n",
      "\n"
     ]
    }
   ],
   "source": [
    "!source envs; \\rm benchmark1_omp ; nvfortran -ta=tesla,cc70,cuda11.7 -mp=gpu benchmark1_omp.f90 -o benchmark1_omp"
   ]
  },
  {
   "cell_type": "code",
   "execution_count": 2,
   "id": "3a347f3c",
   "metadata": {},
   "outputs": [
    {
     "name": "stdout",
     "output_type": "stream",
     "text": [
      "      size      time(s) iterations initial_sum          final_sum        omp_nthreads    subroutine\n",
      "      16000000  68.683    2000    0.000165991129871    0.000006629710014    1     benchmark2d_omp                                   \n",
      "      16000000  34.439    2000    0.000165991129871    0.000006629710014    2     benchmark2d_omp                                   \n",
      "      16000000  24.520    2000    0.000165991129871    0.000006629710014    3     benchmark2d_omp                                   \n",
      "      16000000  17.700    2000    0.000165991129871    0.000006629710014    4     benchmark2d_omp                                   \n",
      "      16000000  14.924    2000    0.000165991129871    0.000006629710014    5     benchmark2d_omp                                   \n",
      "      16000000  11.951    2000    0.000165991129871    0.000006629710014    6     benchmark2d_omp                                   \n",
      "      16000000  12.666    2000    0.000165991129871    0.000006629710014    7     benchmark2d_omp                                   \n",
      "      16000000   8.940    2000    0.000165991129871    0.000006629710014    8     benchmark2d_omp                                   \n",
      "      16000000   7.933    2000    0.000165991129871    0.000006629710014    9     benchmark2d_omp                                   \n",
      "      16000000   7.204    2000    0.000165991129871    0.000006629710014   10     benchmark2d_omp                                   \n",
      "      16000000   6.506    2000    0.000165991129871    0.000006629710014   11     benchmark2d_omp                                   \n",
      "      16000000   5.969    2000    0.000165991129871    0.000006629710014   12     benchmark2d_omp                                   \n",
      "      16000000   5.506    2000    0.000165991129871    0.000006629710014   13     benchmark2d_omp                                   \n",
      "      16000000   5.127    2000    0.000165991129871    0.000006629710014   14     benchmark2d_omp                                   \n",
      "      16000000   4.788    2000    0.000165991129871    0.000006629710014   15     benchmark2d_omp                                   \n",
      "      16000000   4.500    2000    0.000165991129871    0.000006629710014   16     benchmark2d_omp                                   \n"
     ]
    }
   ],
   "source": [
    "!echo '16' | ./benchmark1_omp"
   ]
  },
  {
   "cell_type": "code",
   "execution_count": 3,
   "id": "7f5bad60",
   "metadata": {},
   "outputs": [
    {
     "name": "stdout",
     "output_type": "stream",
     "text": [
      "      size      time(s) iterations initial_sum          final_sum        omp_nthreads    subroutine\n",
      "      16000000   1.561    2000    0.000165991129871    0.000006629710014    1     benchmark2d_omp_gpu                               \n",
      "      size      time(s) iterations initial_sum          final_sum        omp_nthreads    subroutine\n",
      "      16000000   1.491    2000    0.000165991129871    0.000006629710014    1     benchmark2d_omp_gpu                               \n",
      "      size      time(s) iterations initial_sum          final_sum        omp_nthreads    subroutine\n",
      "      16000000   1.558    2000    0.000165991129871    0.000006629710014    1     benchmark2d_omp_gpu                               \n",
      "      size      time(s) iterations initial_sum          final_sum        omp_nthreads    subroutine\n",
      "      16000000   1.638    2000    0.000165991129871    0.000006629710014    1     benchmark2d_omp_gpu                               \n"
     ]
    }
   ],
   "source": [
    "for i in range(1,5):\n",
    "    !echo '-1' | ./benchmark1_omp"
   ]
  },
  {
   "cell_type": "code",
   "execution_count": 4,
   "id": "433d206b",
   "metadata": {},
   "outputs": [
    {
     "name": "stdout",
     "output_type": "stream",
     "text": [
      "      size      time(s) iterations initial_sum          final_sum        omp_nthreads    subroutine\n",
      "      16000000   1.560    2000    0.000165991129871    0.000006629710014    1     benchmark2d_omp_gpu_teams                         \n",
      "      size      time(s) iterations initial_sum          final_sum        omp_nthreads    subroutine\n",
      "      16000000   1.614    2000    0.000165991129871    0.000006629710014    1     benchmark2d_omp_gpu_teams                         \n",
      "      size      time(s) iterations initial_sum          final_sum        omp_nthreads    subroutine\n",
      "      16000000   1.662    2000    0.000165991129871    0.000006629710014    1     benchmark2d_omp_gpu_teams                         \n",
      "      size      time(s) iterations initial_sum          final_sum        omp_nthreads    subroutine\n",
      "      16000000   1.551    2000    0.000165991129871    0.000006629710014    1     benchmark2d_omp_gpu_teams                         \n"
     ]
    }
   ],
   "source": [
    "for i in range(1,5):\n",
    "    !echo '-2' | ./benchmark1_omp"
   ]
  },
  {
   "cell_type": "code",
   "execution_count": 5,
   "id": "2808dc65",
   "metadata": {},
   "outputs": [
    {
     "name": "stdout",
     "output_type": "stream",
     "text": [
      "      size      time(s) iterations initial_sum          final_sum        omp_nthreads    subroutine\n",
      "      16000000   1.656    2000    0.000165991129871    0.000006629710014    1     benchmark2d_omp_gpu_teams_2devs                   \n",
      "      size      time(s) iterations initial_sum          final_sum        omp_nthreads    subroutine\n",
      "      16000000   1.702    2000    0.000165991129871    0.000006629710014    1     benchmark2d_omp_gpu_teams_2devs                   \n",
      "      size      time(s) iterations initial_sum          final_sum        omp_nthreads    subroutine\n",
      "      16000000   1.688    2000    0.000165991129871    0.000006629710014    1     benchmark2d_omp_gpu_teams_2devs                   \n",
      "      size      time(s) iterations initial_sum          final_sum        omp_nthreads    subroutine\n",
      "      16000000   1.691    2000    0.000165991129871    0.000006629710014    1     benchmark2d_omp_gpu_teams_2devs                   \n"
     ]
    }
   ],
   "source": [
    "for i in range(1,5):\n",
    "    !echo '-3' | ./benchmark1_omp"
   ]
  },
  {
   "cell_type": "code",
   "execution_count": 12,
   "id": "bbae4e01",
   "metadata": {},
   "outputs": [
    {
     "name": "stdout",
     "output_type": "stream",
     "text": [
      "      size      time(s) iterations initial_sum          final_sum        omp_nthreads    subroutine\n",
      "      16000000   1.562    2000    0.000165991129871    0.000006629710014    1     benchmark2d_omp_gpu                               \n",
      "      size      time(s) iterations initial_sum          final_sum        omp_nthreads    subroutine\n",
      "      16000000   1.574    2000    0.000165991129871    0.000006629710014    1     benchmark2d_omp_gpu                               \n",
      "      size      time(s) iterations initial_sum          final_sum        omp_nthreads    subroutine\n",
      "      16000000   1.540    2000    0.000165991129871    0.000006629710014    1     benchmark2d_omp_gpu                               \n",
      "      size      time(s) iterations initial_sum          final_sum        omp_nthreads    subroutine\n",
      "      16000000   1.486    2000    0.000165991129871    0.000006629710014    1     benchmark2d_omp_gpu                               \n"
     ]
    }
   ],
   "source": [
    "for i in range(1,5):\n",
    "    !echo '-1' | ./benchmark1_omp"
   ]
  },
  {
   "cell_type": "markdown",
   "id": "a0c76822",
   "metadata": {},
   "source": [
    "## If I run nvidia-smi -l 1 in another shell the timings reduce by a factor of 5  !!! Why? "
   ]
  },
  {
   "cell_type": "code",
   "execution_count": 14,
   "id": "ee1b417a",
   "metadata": {
    "scrolled": true
   },
   "outputs": [
    {
     "name": "stdout",
     "output_type": "stream",
     "text": [
      "      size      time(s) iterations initial_sum          final_sum        omp_nthreads    subroutine\n",
      "      16000000   0.374    2000    0.000165991129871    0.000006629710014    1     benchmark2d_omp_gpu                               \n",
      "      size      time(s) iterations initial_sum          final_sum        omp_nthreads    subroutine\n",
      "      16000000   0.351    2000    0.000165991129871    0.000006629710014    1     benchmark2d_omp_gpu                               \n",
      "      size      time(s) iterations initial_sum          final_sum        omp_nthreads    subroutine\n",
      "      16000000   0.358    2000    0.000165991129871    0.000006629710014    1     benchmark2d_omp_gpu                               \n",
      "      size      time(s) iterations initial_sum          final_sum        omp_nthreads    subroutine\n",
      "      16000000   0.364    2000    0.000165991129871    0.000006629710014    1     benchmark2d_omp_gpu                               \n"
     ]
    }
   ],
   "source": [
    "for i in range(1,5):\n",
    "    !echo '-1' | ./benchmark1_omp"
   ]
  },
  {
   "cell_type": "code",
   "execution_count": null,
   "id": "df1c6b71",
   "metadata": {},
   "outputs": [],
   "source": []
  }
 ],
 "metadata": {
  "kernelspec": {
   "display_name": "Python 3 (ipykernel)",
   "language": "python",
   "name": "python3"
  },
  "language_info": {
   "codemirror_mode": {
    "name": "ipython",
    "version": 3
   },
   "file_extension": ".py",
   "mimetype": "text/x-python",
   "name": "python",
   "nbconvert_exporter": "python",
   "pygments_lexer": "ipython3",
   "version": "3.8.13"
  }
 },
 "nbformat": 4,
 "nbformat_minor": 5
}
