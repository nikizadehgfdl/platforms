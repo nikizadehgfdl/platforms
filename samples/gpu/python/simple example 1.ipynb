{
 "cells": [
  {
   "cell_type": "markdown",
   "metadata": {
    "colab_type": "text",
    "id": "view-in-github"
   },
   "source": [
    "<a href=\"https://colab.research.google.com/github/nikizadehgfdl/platforms/blob/master/gpu_samples/python/simple%20example%201.ipynb\" target=\"_parent\"><img src=\"https://colab.research.google.com/assets/colab-badge.svg\" alt=\"Open In Colab\"/></a>"
   ]
  },
  {
   "cell_type": "code",
   "execution_count": 1,
   "metadata": {
    "colab": {},
    "colab_type": "code",
    "id": "l9LFFYXp4UV5"
   },
   "outputs": [],
   "source": [
    "import numpy as np\n",
    "\n",
    "def pow(a,b,c):\n",
    "    for i in range(a.size):\n",
    "        c[i]=a[i] ** b[i]\n",
    "        \n",
    "\n",
    "vec_size = 100000000\n",
    "a = b = np.array(np.random.sample(vec_size), dtype=np.float32)\n",
    "c = np.zeros(vec_size, dtype=np.float32)"
   ]
  },
  {
   "cell_type": "code",
   "execution_count": 2,
   "metadata": {
    "colab": {
     "base_uri": "https://localhost:8080/",
     "height": 51
    },
    "colab_type": "code",
    "id": "jRspRNeF4UV_",
    "outputId": "db58e729-479d-41d0-bc88-58c3fde387af"
   },
   "outputs": [
    {
     "name": "stdout",
     "output_type": "stream",
     "text": [
      "lscgpu50-d\n",
      "31.7 s ± 368 ms per loop (mean ± std. dev. of 7 runs, 1 loop each)\n"
     ]
    }
   ],
   "source": [
    "import socket\n",
    "print(socket.gethostname())\n",
    "%timeit pow(a, b, c)\n"
   ]
  },
  {
   "cell_type": "markdown",
   "metadata": {
    "colab_type": "text",
    "id": "5pocZbsdAAhy"
   },
   "source": [
    "google colab machine d78b22291f4a 1 loop, best of 3: 35.5 s per loop\n",
    "\n",
    "gfdl gpu box lscgpu50-d                            31.8 s ± 25.9 ms per loop (mean ± std. dev. of 7 runs, 1 loop each)"
   ]
  },
  {
   "cell_type": "code",
   "execution_count": 9,
   "metadata": {
    "colab": {
     "base_uri": "https://localhost:8080/",
     "height": 51
    },
    "colab_type": "code",
    "id": "fpq8M02r9L2D",
    "outputId": "72f89a78-f219-4077-c825-4e4fce03445e"
   },
   "outputs": [
    {
     "name": "stdout",
     "output_type": "stream",
     "text": [
      "/usr/local/cuda-9.2/nvvm/libdevice\n",
      "/usr/local/cuda-9.2/nvvm/lib64/libnvvm.so\n"
     ]
    }
   ],
   "source": [
    "#Needed to do this for colab \n",
    "#!find / -iname 'libdevice'\n",
    "#!find / -iname 'libnvvm.so'\n",
    "#import os\n",
    "#os.environ['NUMBAPRO_LIBDEVICE'] = \"/usr/local/cuda-9.2/nvvm/libdevice\"\n",
    "#os.environ['NUMBAPRO_NVVM'] = \"/usr/local/cuda-9.2/nvvm/lib64/libnvvm.so\""
   ]
  },
  {
   "cell_type": "code",
   "execution_count": 2,
   "metadata": {
    "colab": {},
    "colab_type": "code",
    "id": "dtHh4CYx4UWF"
   },
   "outputs": [],
   "source": [
    "from numba import vectorize\n",
    "\n",
    "@vectorize(['float32(float32, float32)'], target='cuda')\n",
    "def pow2(a, b):\n",
    "    return a ** b"
   ]
  },
  {
   "cell_type": "code",
   "execution_count": 4,
   "metadata": {
    "colab": {
     "base_uri": "https://localhost:8080/",
     "height": 34
    },
    "colab_type": "code",
    "id": "OHfT4xzC4UWJ",
    "outputId": "5f4ff9b8-fb36-4e22-bfac-e42345e42d18"
   },
   "outputs": [
    {
     "name": "stdout",
     "output_type": "stream",
     "text": [
      "315 ms ± 87 ms per loop (mean ± std. dev. of 7 runs, 1 loop each)\n"
     ]
    }
   ],
   "source": [
    "%timeit pow2(a,b)"
   ]
  },
  {
   "cell_type": "markdown",
   "metadata": {
    "colab_type": "text",
    "id": "laIgfv_MAAz-"
   },
   "source": [
    "google colab machine d78b22291f4a :  1 loop, best of 3: 272 ms per loop\n",
    "\n",
    "gfdl gpu box lscgpu50-d :                                 386 ms ± 77.9 ms per loop (mean ± std. dev. of 7 runs, 1 loop each)"
   ]
  },
  {
   "cell_type": "code",
   "execution_count": 0,
   "metadata": {
    "colab": {},
    "colab_type": "code",
    "id": "1sKy5JWk4UWN"
   },
   "outputs": [],
   "source": []
  }
 ],
 "metadata": {
  "accelerator": "GPU",
  "colab": {
   "include_colab_link": true,
   "name": "simple example 1.ipynb",
   "provenance": [],
   "version": "0.3.2"
  },
  "kernelspec": {
   "display_name": "Python 3 (ipykernel)",
   "language": "python",
   "name": "python3"
  },
  "language_info": {
   "codemirror_mode": {
    "name": "ipython",
    "version": 3
   },
   "file_extension": ".py",
   "mimetype": "text/x-python",
   "name": "python",
   "nbconvert_exporter": "python",
   "pygments_lexer": "ipython3",
   "version": "3.10.8"
  }
 },
 "nbformat": 4,
 "nbformat_minor": 1
}
