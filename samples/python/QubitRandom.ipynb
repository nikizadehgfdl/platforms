{
 "cells": [
  {
   "cell_type": "code",
   "execution_count": 5,
   "metadata": {},
   "outputs": [],
   "source": [
    "from qiskit import QuantumCircuit, QuantumRegister, ClassicalRegister, execute, BasicAer"
   ]
  },
  {
   "cell_type": "markdown",
   "metadata": {},
   "source": [
    "#### Design the device (circuit in QC jargon) that would generate your lucky number"
   ]
  },
  {
   "cell_type": "code",
   "execution_count": 6,
   "metadata": {},
   "outputs": [
    {
     "data": {
      "image/png": "[encoded data removed]",
      "text/plain": [
       "<Figure size 304.612x144.48 with 1 Axes>"
      ]
     },
     "execution_count": 6,
     "metadata": {},
     "output_type": "execute_result"
    }
   ],
   "source": [
    "# Number of qubits utilised simultaneously.\n",
    "glo_num_qubits = 1\n",
    "\n",
    "def create_circuit(num_target_qubits: int) -> QuantumCircuit:\n",
    "    \"\"\"\n",
    "    Creates and returns quantum circuit for random variate generation.\n",
    "    :param num_target_qubits: number of qubits to be used.\n",
    "    :return: quantum curcuit.\n",
    "    \"\"\"\n",
    "    assert isinstance(num_target_qubits, int) and num_target_qubits > 0\n",
    "    q = QuantumRegister(num_target_qubits)\n",
    "    c = ClassicalRegister(num_target_qubits)\n",
    "    circuit = QuantumCircuit(q, c)\n",
    "    circuit.h(q)\n",
    "    circuit.barrier()\n",
    "    circuit.measure(q, c)\n",
    "    return circuit\n",
    "\n",
    "# Create and plot generating quantum circuit.\n",
    "circuit = create_circuit(glo_num_qubits)\n",
    "#print(circuit)\n",
    "circuit.draw(output='mpl')"
   ]
  },
  {
   "cell_type": "markdown",
   "metadata": {},
   "source": [
    "#### First try it on a simulator (simulates QC on a not-QC)\n",
    "##### Not necessary, but, my boss says I should have a unit test for every line of code I write"
   ]
  },
  {
   "cell_type": "code",
   "execution_count": 10,
   "metadata": {
    "scrolled": true
   },
   "outputs": [
    {
     "data": {
      "text/plain": [
       "59"
      ]
     },
     "execution_count": 10,
     "metadata": {},
     "output_type": "execute_result"
    }
   ],
   "source": [
    "# First try it on a simulator\n",
    "# In this example we use 'qasm_simulator' backend.\n",
    "glo_backend = BasicAer.get_backend(\"qasm_simulator\")\n",
    "\n",
    "# Create a Quantum Program for execution \n",
    "job_sim = execute(circuit, glo_backend, shots=8, memory=True)\n",
    "\n",
    "bit_str = ''.join(job_sim.result().get_memory())\n",
    "int(bit_str,2)"
   ]
  },
  {
   "cell_type": "markdown",
   "metadata": {},
   "source": [
    "#### Next do it on the real QC (IBMQ) \n",
    "##### You can obtain a free token after you register at IBMQ site"
   ]
  },
  {
   "cell_type": "code",
   "execution_count": 12,
   "metadata": {},
   "outputs": [],
   "source": [
    "from qiskit import IBMQ\n",
    "#IBMQ.save_account('GET_AND_PASTE_YOUR_IBMQ_TOKEN_HERE')\n",
    "# Loading your IBM Q account(s)\n",
    "provider = IBMQ.load_account()"
   ]
  },
  {
   "cell_type": "code",
   "execution_count": 18,
   "metadata": {},
   "outputs": [
    {
     "name": "stdout",
     "output_type": "stream",
     "text": [
      "Job Status: job has successfully run\n",
      "Your lucky number is  159\n"
     ]
    }
   ],
   "source": [
    "# Next, do it on the real thing.\n",
    "# Find the least-busy IBM device\n",
    "from qiskit.providers.ibmq import least_busy\n",
    "lb_device = least_busy(provider.backends(filters=lambda b: b.configuration().simulator == False))\n",
    "\n",
    "# And run the circuit on that device\n",
    "job = execute(circuit, backend=lb_device, shots=8, memory=True)\n",
    "from qiskit.tools.monitor import job_monitor\n",
    "job_monitor(job)\n",
    "result = job.result()\n",
    "\n",
    "\n",
    "bit_str = ''.join(result.get_memory())\n",
    "print(\"Your lucky number is \",int(bit_str,2))"
   ]
  },
  {
   "cell_type": "code",
   "execution_count": 21,
   "metadata": {
    "scrolled": true
   },
   "outputs": [
    {
     "data": {
      "text/html": [
       "<h3>Version Information</h3><table><tr><th>Qiskit Software</th><th>Version</th></tr><tr><td>Qiskit</td><td>0.15.0</td></tr><tr><td>Terra</td><td>0.12.0</td></tr><tr><td>Aer</td><td>0.4.0</td></tr><tr><td>Ignis</td><td>0.2.0</td></tr><tr><td>Aqua</td><td>0.6.4</td></tr><tr><td>IBM Q Provider</td><td>0.4.6</td></tr><tr><th>System information</th></tr><tr><td>Python</td><td>3.7.3 | packaged by conda-forge | (default, Jul  1 2019, 21:52:21) \n",
       "[GCC 7.3.0]</td></tr><tr><td>OS</td><td>Linux</td></tr><tr><td>CPUs</td><td>4</td></tr><tr><td>Memory (Gb)</td><td>62.68108367919922</td></tr><tr><td colspan='2'>Fri Feb 21 14:18:25 2020 EST</td></tr></table>"
      ],
      "text/plain": [
       "<IPython.core.display.HTML object>"
      ]
     },
     "metadata": {},
     "output_type": "display_data"
    },
    {
     "data": {
      "text/html": [
       "<div style='width: 100%; background-color:#d5d9e0;padding-left: 10px; padding-bottom: 10px; padding-right: 10px; padding-top: 5px'><h3>This code is a part of Qiskit</h3><p>&copy; Copyright IBM 2017, 2020.</p><p>This code is licensed under the Apache License, Version 2.0. You may<br>obtain a copy of this license in the LICENSE.txt file in the root directory<br> of this source tree or at http://www.apache.org/licenses/LICENSE-2.0.<p>Any modifications or derivative works of this code must retain this<br>copyright notice, and modified files need to carry a notice indicating<br>that they have been altered from the originals.</p></div>"
      ],
      "text/plain": [
       "<IPython.core.display.HTML object>"
      ]
     },
     "metadata": {},
     "output_type": "display_data"
    }
   ],
   "source": [
    "import qiskit.tools.jupyter\n",
    "%qiskit_version_table\n",
    "%qiskit_copyright"
   ]
  }
 ],
 "metadata": {
  "kernelspec": {
   "display_name": "Python 3",
   "language": "python",
   "name": "python3"
  },
  "language_info": {
   "codemirror_mode": {
    "name": "ipython",
    "version": 3
   },
   "file_extension": ".py",
   "mimetype": "text/x-python",
   "name": "python",
   "nbconvert_exporter": "python",
   "pygments_lexer": "ipython3",
   "version": "3.7.3"
  }
 },
 "nbformat": 4,
 "nbformat_minor": 2
}
